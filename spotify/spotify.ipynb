{
 "cells": [
  {
   "cell_type": "code",
   "execution_count": 4,
   "metadata": {},
   "outputs": [
    {
     "data": {
      "text/html": [
       "<style>.container { width:90% !important; }</style>"
      ],
      "text/plain": [
       "<IPython.core.display.HTML object>"
      ]
     },
     "metadata": {},
     "output_type": "display_data"
    }
   ],
   "source": [
    "import requests\n",
    "import pandas as pd\n",
    "import plotnine as p9\n",
    "from IPython.core.display import display, HTML\n",
    "import os\n",
    "from matplotlib import gridspec\n",
    "import matplotlib.pyplot as plt\n",
    "import json\n",
    "display(HTML(\"<style>.container { width:90% !important; }</style>\"))\n",
    "%matplotlib inline"
   ]
  },
  {
   "cell_type": "markdown",
   "metadata": {},
   "source": [
    "# Authentication Token\n",
    "\n",
    "Grab a token from: https://developer.spotify.com/console/get-current-user/"
   ]
  },
  {
   "cell_type": "code",
   "execution_count": 89,
   "metadata": {},
   "outputs": [],
   "source": [
    "TOKEN = \"\"\n",
    "track_end_point = \"https://api.spotify.com/v1/me/top/tracks?time_range=short_term&limit=50\"\n",
    "headers = {\"Authorization\": f\"Bearer {TOKEN}\", \"Accept\": \"application/json\"}\n",
    "feature_end_point = \"https://api.spotify.com/v1/audio-features\""
   ]
  },
  {
   "cell_type": "code",
   "execution_count": 39,
   "metadata": {},
   "outputs": [],
   "source": [
    "songs_file = \"top_songs.csv\"\n",
    "if not os.path.exists(songs_file):\n",
    "    songs = pd.DataFrame()\n",
    "    response = requests.get(track_end_point, headers=headers)\n",
    "    batch = pd.DataFrame.from_dict(response.json()['items'])\n",
    "    songs = songs.append(batch)\n",
    "    songs.to_csv(songs_file)\n",
    "else:\n",
    "    songs = pd.read_csv(songs_file, index_col=0)"
   ]
  },
  {
   "cell_type": "code",
   "execution_count": 40,
   "metadata": {},
   "outputs": [
    {
     "data": {
      "text/html": [
       "<div>\n",
       "<style scoped>\n",
       "    .dataframe tbody tr th:only-of-type {\n",
       "        vertical-align: middle;\n",
       "    }\n",
       "\n",
       "    .dataframe tbody tr th {\n",
       "        vertical-align: top;\n",
       "    }\n",
       "\n",
       "    .dataframe thead th {\n",
       "        text-align: right;\n",
       "    }\n",
       "</style>\n",
       "<table border=\"1\" class=\"dataframe\">\n",
       "  <thead>\n",
       "    <tr style=\"text-align: right;\">\n",
       "      <th></th>\n",
       "      <th>album</th>\n",
       "      <th>artists</th>\n",
       "      <th>available_markets</th>\n",
       "      <th>disc_number</th>\n",
       "      <th>duration_ms</th>\n",
       "      <th>explicit</th>\n",
       "      <th>external_ids</th>\n",
       "      <th>external_urls</th>\n",
       "      <th>href</th>\n",
       "      <th>id</th>\n",
       "      <th>is_local</th>\n",
       "      <th>name</th>\n",
       "      <th>popularity</th>\n",
       "      <th>preview_url</th>\n",
       "      <th>track_number</th>\n",
       "      <th>type</th>\n",
       "      <th>uri</th>\n",
       "    </tr>\n",
       "  </thead>\n",
       "  <tbody>\n",
       "    <tr>\n",
       "      <th>0</th>\n",
       "      <td>{'album_type': 'ALBUM', 'artists': [{'external...</td>\n",
       "      <td>[{'external_urls': {'spotify': 'https://open.s...</td>\n",
       "      <td>[AD, AE, AR, AU, BE, BH, BO, BR, CA, CL, CO, C...</td>\n",
       "      <td>1</td>\n",
       "      <td>170857</td>\n",
       "      <td>False</td>\n",
       "      <td>{'isrc': 'NLZ541700307'}</td>\n",
       "      <td>{'spotify': 'https://open.spotify.com/track/7I...</td>\n",
       "      <td>https://api.spotify.com/v1/tracks/7IToVuRoN3NP...</td>\n",
       "      <td>7IToVuRoN3NP3mJzLe0RXt</td>\n",
       "      <td>False</td>\n",
       "      <td>Fade Away (feat. INNA)</td>\n",
       "      <td>52</td>\n",
       "      <td>https://p.scdn.co/mp3-preview/1a6761e99c5988f8...</td>\n",
       "      <td>2</td>\n",
       "      <td>track</td>\n",
       "      <td>spotify:track:7IToVuRoN3NP3mJzLe0RXt</td>\n",
       "    </tr>\n",
       "    <tr>\n",
       "      <th>1</th>\n",
       "      <td>{'album_type': 'SINGLE', 'artists': [{'externa...</td>\n",
       "      <td>[{'external_urls': {'spotify': 'https://open.s...</td>\n",
       "      <td>[AD, AE, AR, AT, AU, BE, BG, BH, BO, BR, CA, C...</td>\n",
       "      <td>1</td>\n",
       "      <td>187118</td>\n",
       "      <td>False</td>\n",
       "      <td>{'isrc': 'DK4YA1907701'}</td>\n",
       "      <td>{'spotify': 'https://open.spotify.com/track/5h...</td>\n",
       "      <td>https://api.spotify.com/v1/tracks/5hB4uV5XGpTE...</td>\n",
       "      <td>5hB4uV5XGpTE5pnxHv36EF</td>\n",
       "      <td>False</td>\n",
       "      <td>Make That Call</td>\n",
       "      <td>41</td>\n",
       "      <td>https://p.scdn.co/mp3-preview/6a6d3a3edac314f9...</td>\n",
       "      <td>1</td>\n",
       "      <td>track</td>\n",
       "      <td>spotify:track:5hB4uV5XGpTE5pnxHv36EF</td>\n",
       "    </tr>\n",
       "    <tr>\n",
       "      <th>2</th>\n",
       "      <td>{'album_type': 'SINGLE', 'artists': [{'externa...</td>\n",
       "      <td>[{'external_urls': {'spotify': 'https://open.s...</td>\n",
       "      <td>[AD, AE, AR, AT, BE, BG, BH, BO, BR, CA, CH, C...</td>\n",
       "      <td>1</td>\n",
       "      <td>190933</td>\n",
       "      <td>False</td>\n",
       "      <td>{'isrc': 'DK4YA1816201'}</td>\n",
       "      <td>{'spotify': 'https://open.spotify.com/track/3v...</td>\n",
       "      <td>https://api.spotify.com/v1/tracks/3vZbmIvjbU0m...</td>\n",
       "      <td>3vZbmIvjbU0m5p0ZLaKRbE</td>\n",
       "      <td>False</td>\n",
       "      <td>Wild Ones</td>\n",
       "      <td>45</td>\n",
       "      <td>https://p.scdn.co/mp3-preview/8f5b43ba6e1c7f7b...</td>\n",
       "      <td>1</td>\n",
       "      <td>track</td>\n",
       "      <td>spotify:track:3vZbmIvjbU0m5p0ZLaKRbE</td>\n",
       "    </tr>\n",
       "    <tr>\n",
       "      <th>3</th>\n",
       "      <td>{'album_type': 'SINGLE', 'artists': [{'externa...</td>\n",
       "      <td>[{'external_urls': {'spotify': 'https://open.s...</td>\n",
       "      <td>[AD, AE, AR, AT, AU, BE, BG, BH, BO, BR, CA, C...</td>\n",
       "      <td>1</td>\n",
       "      <td>194181</td>\n",
       "      <td>False</td>\n",
       "      <td>{'isrc': 'CHB701800173'}</td>\n",
       "      <td>{'spotify': 'https://open.spotify.com/track/4I...</td>\n",
       "      <td>https://api.spotify.com/v1/tracks/4IXAvmNBFinL...</td>\n",
       "      <td>4IXAvmNBFinLJJAuqpBK7Y</td>\n",
       "      <td>False</td>\n",
       "      <td>Getaway</td>\n",
       "      <td>56</td>\n",
       "      <td>https://p.scdn.co/mp3-preview/d62985d52809d308...</td>\n",
       "      <td>1</td>\n",
       "      <td>track</td>\n",
       "      <td>spotify:track:4IXAvmNBFinLJJAuqpBK7Y</td>\n",
       "    </tr>\n",
       "    <tr>\n",
       "      <th>4</th>\n",
       "      <td>{'album_type': 'ALBUM', 'artists': [{'external...</td>\n",
       "      <td>[{'external_urls': {'spotify': 'https://open.s...</td>\n",
       "      <td>[AD, AE, AR, AT, AU, BE, BG, BH, BO, BR, CA, C...</td>\n",
       "      <td>2</td>\n",
       "      <td>186610</td>\n",
       "      <td>False</td>\n",
       "      <td>{'isrc': 'NLZ541701232'}</td>\n",
       "      <td>{'spotify': 'https://open.spotify.com/track/7u...</td>\n",
       "      <td>https://api.spotify.com/v1/tracks/7uqS1gGcgWD0...</td>\n",
       "      <td>7uqS1gGcgWD0wiiKttEmyp</td>\n",
       "      <td>False</td>\n",
       "      <td>Wishing Well (feat. Olivia Sebastianelli)</td>\n",
       "      <td>53</td>\n",
       "      <td>https://p.scdn.co/mp3-preview/d84294a0587b89d3...</td>\n",
       "      <td>1</td>\n",
       "      <td>track</td>\n",
       "      <td>spotify:track:7uqS1gGcgWD0wiiKttEmyp</td>\n",
       "    </tr>\n",
       "  </tbody>\n",
       "</table>\n",
       "</div>"
      ],
      "text/plain": [
       "                                               album  \\\n",
       "0  {'album_type': 'ALBUM', 'artists': [{'external...   \n",
       "1  {'album_type': 'SINGLE', 'artists': [{'externa...   \n",
       "2  {'album_type': 'SINGLE', 'artists': [{'externa...   \n",
       "3  {'album_type': 'SINGLE', 'artists': [{'externa...   \n",
       "4  {'album_type': 'ALBUM', 'artists': [{'external...   \n",
       "\n",
       "                                             artists  \\\n",
       "0  [{'external_urls': {'spotify': 'https://open.s...   \n",
       "1  [{'external_urls': {'spotify': 'https://open.s...   \n",
       "2  [{'external_urls': {'spotify': 'https://open.s...   \n",
       "3  [{'external_urls': {'spotify': 'https://open.s...   \n",
       "4  [{'external_urls': {'spotify': 'https://open.s...   \n",
       "\n",
       "                                   available_markets  disc_number  \\\n",
       "0  [AD, AE, AR, AU, BE, BH, BO, BR, CA, CL, CO, C...            1   \n",
       "1  [AD, AE, AR, AT, AU, BE, BG, BH, BO, BR, CA, C...            1   \n",
       "2  [AD, AE, AR, AT, BE, BG, BH, BO, BR, CA, CH, C...            1   \n",
       "3  [AD, AE, AR, AT, AU, BE, BG, BH, BO, BR, CA, C...            1   \n",
       "4  [AD, AE, AR, AT, AU, BE, BG, BH, BO, BR, CA, C...            2   \n",
       "\n",
       "   duration_ms  explicit              external_ids  \\\n",
       "0       170857     False  {'isrc': 'NLZ541700307'}   \n",
       "1       187118     False  {'isrc': 'DK4YA1907701'}   \n",
       "2       190933     False  {'isrc': 'DK4YA1816201'}   \n",
       "3       194181     False  {'isrc': 'CHB701800173'}   \n",
       "4       186610     False  {'isrc': 'NLZ541701232'}   \n",
       "\n",
       "                                       external_urls  \\\n",
       "0  {'spotify': 'https://open.spotify.com/track/7I...   \n",
       "1  {'spotify': 'https://open.spotify.com/track/5h...   \n",
       "2  {'spotify': 'https://open.spotify.com/track/3v...   \n",
       "3  {'spotify': 'https://open.spotify.com/track/4I...   \n",
       "4  {'spotify': 'https://open.spotify.com/track/7u...   \n",
       "\n",
       "                                                href                      id  \\\n",
       "0  https://api.spotify.com/v1/tracks/7IToVuRoN3NP...  7IToVuRoN3NP3mJzLe0RXt   \n",
       "1  https://api.spotify.com/v1/tracks/5hB4uV5XGpTE...  5hB4uV5XGpTE5pnxHv36EF   \n",
       "2  https://api.spotify.com/v1/tracks/3vZbmIvjbU0m...  3vZbmIvjbU0m5p0ZLaKRbE   \n",
       "3  https://api.spotify.com/v1/tracks/4IXAvmNBFinL...  4IXAvmNBFinLJJAuqpBK7Y   \n",
       "4  https://api.spotify.com/v1/tracks/7uqS1gGcgWD0...  7uqS1gGcgWD0wiiKttEmyp   \n",
       "\n",
       "   is_local                                       name  popularity  \\\n",
       "0     False                     Fade Away (feat. INNA)          52   \n",
       "1     False                             Make That Call          41   \n",
       "2     False                                  Wild Ones          45   \n",
       "3     False                                    Getaway          56   \n",
       "4     False  Wishing Well (feat. Olivia Sebastianelli)          53   \n",
       "\n",
       "                                         preview_url  track_number   type  \\\n",
       "0  https://p.scdn.co/mp3-preview/1a6761e99c5988f8...             2  track   \n",
       "1  https://p.scdn.co/mp3-preview/6a6d3a3edac314f9...             1  track   \n",
       "2  https://p.scdn.co/mp3-preview/8f5b43ba6e1c7f7b...             1  track   \n",
       "3  https://p.scdn.co/mp3-preview/d62985d52809d308...             1  track   \n",
       "4  https://p.scdn.co/mp3-preview/d84294a0587b89d3...             1  track   \n",
       "\n",
       "                                    uri  \n",
       "0  spotify:track:7IToVuRoN3NP3mJzLe0RXt  \n",
       "1  spotify:track:5hB4uV5XGpTE5pnxHv36EF  \n",
       "2  spotify:track:3vZbmIvjbU0m5p0ZLaKRbE  \n",
       "3  spotify:track:4IXAvmNBFinLJJAuqpBK7Y  \n",
       "4  spotify:track:7uqS1gGcgWD0wiiKttEmyp  "
      ]
     },
     "execution_count": 40,
     "metadata": {},
     "output_type": "execute_result"
    }
   ],
   "source": [
    "songs.head()"
   ]
  },
  {
   "cell_type": "code",
   "execution_count": 41,
   "metadata": {},
   "outputs": [],
   "source": [
    "features_file = \"features.csv\"\n",
    "ids = list(songs.id)\n",
    "if not os.path.exists(features_file):\n",
    "    features = pd.DataFrame()\n",
    "    req = \",\".join(map(str, ids))\n",
    "    response = requests.get(feature_end_point, params={\"ids\": req}, headers=headers)\n",
    "    batch = pd.DataFrame.from_dict(response.json()['audio_features'])\n",
    "    features = features.append(batch)\n",
    "    features.to_csv(features_file)\n",
    "else:\n",
    "    features = pd.read_csv(features_file, index_col=0)"
   ]
  },
  {
   "cell_type": "code",
   "execution_count": 42,
   "metadata": {},
   "outputs": [
    {
     "data": {
      "text/html": [
       "<div>\n",
       "<style scoped>\n",
       "    .dataframe tbody tr th:only-of-type {\n",
       "        vertical-align: middle;\n",
       "    }\n",
       "\n",
       "    .dataframe tbody tr th {\n",
       "        vertical-align: top;\n",
       "    }\n",
       "\n",
       "    .dataframe thead th {\n",
       "        text-align: right;\n",
       "    }\n",
       "</style>\n",
       "<table border=\"1\" class=\"dataframe\">\n",
       "  <thead>\n",
       "    <tr style=\"text-align: right;\">\n",
       "      <th></th>\n",
       "      <th>danceability</th>\n",
       "      <th>energy</th>\n",
       "      <th>key</th>\n",
       "      <th>loudness</th>\n",
       "      <th>mode</th>\n",
       "      <th>speechiness</th>\n",
       "      <th>acousticness</th>\n",
       "      <th>instrumentalness</th>\n",
       "      <th>liveness</th>\n",
       "      <th>valence</th>\n",
       "      <th>tempo</th>\n",
       "      <th>type</th>\n",
       "      <th>id</th>\n",
       "      <th>uri</th>\n",
       "      <th>track_href</th>\n",
       "      <th>analysis_url</th>\n",
       "      <th>duration_ms</th>\n",
       "      <th>time_signature</th>\n",
       "    </tr>\n",
       "  </thead>\n",
       "  <tbody>\n",
       "    <tr>\n",
       "      <th>0</th>\n",
       "      <td>0.690</td>\n",
       "      <td>0.713</td>\n",
       "      <td>4</td>\n",
       "      <td>-3.246</td>\n",
       "      <td>0</td>\n",
       "      <td>0.0329</td>\n",
       "      <td>0.0314</td>\n",
       "      <td>0.000000</td>\n",
       "      <td>0.3370</td>\n",
       "      <td>0.388</td>\n",
       "      <td>105.060</td>\n",
       "      <td>audio_features</td>\n",
       "      <td>7IToVuRoN3NP3mJzLe0RXt</td>\n",
       "      <td>spotify:track:7IToVuRoN3NP3mJzLe0RXt</td>\n",
       "      <td>https://api.spotify.com/v1/tracks/7IToVuRoN3NP...</td>\n",
       "      <td>https://api.spotify.com/v1/audio-analysis/7ITo...</td>\n",
       "      <td>170857</td>\n",
       "      <td>4</td>\n",
       "    </tr>\n",
       "    <tr>\n",
       "      <th>1</th>\n",
       "      <td>0.787</td>\n",
       "      <td>0.670</td>\n",
       "      <td>6</td>\n",
       "      <td>-5.484</td>\n",
       "      <td>1</td>\n",
       "      <td>0.0369</td>\n",
       "      <td>0.2080</td>\n",
       "      <td>0.000018</td>\n",
       "      <td>0.0465</td>\n",
       "      <td>0.580</td>\n",
       "      <td>118.064</td>\n",
       "      <td>audio_features</td>\n",
       "      <td>5hB4uV5XGpTE5pnxHv36EF</td>\n",
       "      <td>spotify:track:5hB4uV5XGpTE5pnxHv36EF</td>\n",
       "      <td>https://api.spotify.com/v1/tracks/5hB4uV5XGpTE...</td>\n",
       "      <td>https://api.spotify.com/v1/audio-analysis/5hB4...</td>\n",
       "      <td>187119</td>\n",
       "      <td>4</td>\n",
       "    </tr>\n",
       "    <tr>\n",
       "      <th>2</th>\n",
       "      <td>0.747</td>\n",
       "      <td>0.586</td>\n",
       "      <td>5</td>\n",
       "      <td>-5.774</td>\n",
       "      <td>1</td>\n",
       "      <td>0.0491</td>\n",
       "      <td>0.4510</td>\n",
       "      <td>0.000000</td>\n",
       "      <td>0.2520</td>\n",
       "      <td>0.783</td>\n",
       "      <td>91.995</td>\n",
       "      <td>audio_features</td>\n",
       "      <td>3vZbmIvjbU0m5p0ZLaKRbE</td>\n",
       "      <td>spotify:track:3vZbmIvjbU0m5p0ZLaKRbE</td>\n",
       "      <td>https://api.spotify.com/v1/tracks/3vZbmIvjbU0m...</td>\n",
       "      <td>https://api.spotify.com/v1/audio-analysis/3vZb...</td>\n",
       "      <td>190933</td>\n",
       "      <td>4</td>\n",
       "    </tr>\n",
       "    <tr>\n",
       "      <th>3</th>\n",
       "      <td>0.742</td>\n",
       "      <td>0.836</td>\n",
       "      <td>6</td>\n",
       "      <td>-3.501</td>\n",
       "      <td>1</td>\n",
       "      <td>0.0356</td>\n",
       "      <td>0.2240</td>\n",
       "      <td>0.000000</td>\n",
       "      <td>0.1110</td>\n",
       "      <td>0.673</td>\n",
       "      <td>110.031</td>\n",
       "      <td>audio_features</td>\n",
       "      <td>4IXAvmNBFinLJJAuqpBK7Y</td>\n",
       "      <td>spotify:track:4IXAvmNBFinLJJAuqpBK7Y</td>\n",
       "      <td>https://api.spotify.com/v1/tracks/4IXAvmNBFinL...</td>\n",
       "      <td>https://api.spotify.com/v1/audio-analysis/4IXA...</td>\n",
       "      <td>194182</td>\n",
       "      <td>4</td>\n",
       "    </tr>\n",
       "    <tr>\n",
       "      <th>4</th>\n",
       "      <td>0.698</td>\n",
       "      <td>0.653</td>\n",
       "      <td>9</td>\n",
       "      <td>-6.365</td>\n",
       "      <td>1</td>\n",
       "      <td>0.0521</td>\n",
       "      <td>0.4240</td>\n",
       "      <td>0.000000</td>\n",
       "      <td>0.3210</td>\n",
       "      <td>0.381</td>\n",
       "      <td>100.976</td>\n",
       "      <td>audio_features</td>\n",
       "      <td>7uqS1gGcgWD0wiiKttEmyp</td>\n",
       "      <td>spotify:track:7uqS1gGcgWD0wiiKttEmyp</td>\n",
       "      <td>https://api.spotify.com/v1/tracks/7uqS1gGcgWD0...</td>\n",
       "      <td>https://api.spotify.com/v1/audio-analysis/7uqS...</td>\n",
       "      <td>186610</td>\n",
       "      <td>4</td>\n",
       "    </tr>\n",
       "  </tbody>\n",
       "</table>\n",
       "</div>"
      ],
      "text/plain": [
       "   danceability  energy  key  loudness  mode  speechiness  acousticness  \\\n",
       "0         0.690   0.713    4    -3.246     0       0.0329        0.0314   \n",
       "1         0.787   0.670    6    -5.484     1       0.0369        0.2080   \n",
       "2         0.747   0.586    5    -5.774     1       0.0491        0.4510   \n",
       "3         0.742   0.836    6    -3.501     1       0.0356        0.2240   \n",
       "4         0.698   0.653    9    -6.365     1       0.0521        0.4240   \n",
       "\n",
       "   instrumentalness  liveness  valence    tempo            type  \\\n",
       "0          0.000000    0.3370    0.388  105.060  audio_features   \n",
       "1          0.000018    0.0465    0.580  118.064  audio_features   \n",
       "2          0.000000    0.2520    0.783   91.995  audio_features   \n",
       "3          0.000000    0.1110    0.673  110.031  audio_features   \n",
       "4          0.000000    0.3210    0.381  100.976  audio_features   \n",
       "\n",
       "                       id                                   uri  \\\n",
       "0  7IToVuRoN3NP3mJzLe0RXt  spotify:track:7IToVuRoN3NP3mJzLe0RXt   \n",
       "1  5hB4uV5XGpTE5pnxHv36EF  spotify:track:5hB4uV5XGpTE5pnxHv36EF   \n",
       "2  3vZbmIvjbU0m5p0ZLaKRbE  spotify:track:3vZbmIvjbU0m5p0ZLaKRbE   \n",
       "3  4IXAvmNBFinLJJAuqpBK7Y  spotify:track:4IXAvmNBFinLJJAuqpBK7Y   \n",
       "4  7uqS1gGcgWD0wiiKttEmyp  spotify:track:7uqS1gGcgWD0wiiKttEmyp   \n",
       "\n",
       "                                          track_href  \\\n",
       "0  https://api.spotify.com/v1/tracks/7IToVuRoN3NP...   \n",
       "1  https://api.spotify.com/v1/tracks/5hB4uV5XGpTE...   \n",
       "2  https://api.spotify.com/v1/tracks/3vZbmIvjbU0m...   \n",
       "3  https://api.spotify.com/v1/tracks/4IXAvmNBFinL...   \n",
       "4  https://api.spotify.com/v1/tracks/7uqS1gGcgWD0...   \n",
       "\n",
       "                                        analysis_url  duration_ms  \\\n",
       "0  https://api.spotify.com/v1/audio-analysis/7ITo...       170857   \n",
       "1  https://api.spotify.com/v1/audio-analysis/5hB4...       187119   \n",
       "2  https://api.spotify.com/v1/audio-analysis/3vZb...       190933   \n",
       "3  https://api.spotify.com/v1/audio-analysis/4IXA...       194182   \n",
       "4  https://api.spotify.com/v1/audio-analysis/7uqS...       186610   \n",
       "\n",
       "   time_signature  \n",
       "0               4  \n",
       "1               4  \n",
       "2               4  \n",
       "3               4  \n",
       "4               4  "
      ]
     },
     "execution_count": 42,
     "metadata": {},
     "output_type": "execute_result"
    }
   ],
   "source": [
    "features.head()"
   ]
  },
  {
   "cell_type": "code",
   "execution_count": 47,
   "metadata": {},
   "outputs": [],
   "source": [
    "columns = ['danceability', 'energy', 'key', 'loudness', 'speechiness',\n",
    "       'acousticness', 'instrumentalness', 'liveness', 'valence', 'tempo']"
   ]
  },
  {
   "cell_type": "code",
   "execution_count": 48,
   "metadata": {
    "scrolled": false
   },
   "outputs": [
    {
     "data": {
      "image/png": "[encoded data removed]",
      "text/plain": [
       "<Figure size 1280x1280 with 10 Axes>"
      ]
     },
     "metadata": {
      "needs_background": "light"
     },
     "output_type": "display_data"
    },
    {
     "data": {
      "text/plain": [
       "<ggplot: (8790538044760)>"
      ]
     },
     "execution_count": 48,
     "metadata": {},
     "output_type": "execute_result"
    }
   ],
   "source": [
    "melt = pd.melt(features[columns])\n",
    "p9.options.set_option('figure_size', (12.8, 12.8))\n",
    "(\n",
    "    p9.ggplot(melt) + \n",
    "    p9.geom_histogram(p9.aes(x='value', fill='variable'), bins=20, show_legend=False) + \n",
    "    p9.theme_minimal() +\n",
    "    p9.facet_wrap('variable', scales='free', nrow=6, ncol=2) + \n",
    "    p9.theme(subplots_adjust={'wspace': 0.25, 'hspace': 0.75})\n",
    ")"
   ]
  },
  {
   "cell_type": "markdown",
   "metadata": {},
   "source": [
    "# UMAP"
   ]
  },
  {
   "cell_type": "code",
   "execution_count": 90,
   "metadata": {},
   "outputs": [],
   "source": [
    "import umap"
   ]
  },
  {
   "cell_type": "code",
   "execution_count": 91,
   "metadata": {},
   "outputs": [],
   "source": [
    "reducer = umap.UMAP()"
   ]
  },
  {
   "cell_type": "code",
   "execution_count": 135,
   "metadata": {},
   "outputs": [],
   "source": [
    "embedding = umap.UMAP(\n",
    "    n_neighbors=30,\n",
    "    min_dist=0.0,\n",
    "    n_components=3\n",
    ").fit_transform(features[columns])"
   ]
  },
  {
   "cell_type": "code",
   "execution_count": 136,
   "metadata": {},
   "outputs": [],
   "source": [
    "df = pd.DataFrame({'x': embedding[:, 0], 'y': embedding[:, 1], 'z': embedding[:, 2]})\n",
    "reduced = df.join(features, how='inner')\n",
    "joined = reduced.merge(songs, on='id',how='inner')"
   ]
  },
  {
   "cell_type": "code",
   "execution_count": 137,
   "metadata": {},
   "outputs": [],
   "source": [
    "joined['artist_flat'] = joined.artists.apply(lambda artists: [i['name']for i in json.loads(json.dumps(artists))])"
   ]
  },
  {
   "cell_type": "code",
   "execution_count": 138,
   "metadata": {},
   "outputs": [],
   "source": [
    "from sklearn.cluster import KMeans\n",
    "import numpy as np\n",
    "from scipy.spatial.distance import cdist"
   ]
  },
  {
   "cell_type": "code",
   "execution_count": 139,
   "metadata": {},
   "outputs": [
    {
     "data": {
      "text/html": [
       "<div>\n",
       "<style scoped>\n",
       "    .dataframe tbody tr th:only-of-type {\n",
       "        vertical-align: middle;\n",
       "    }\n",
       "\n",
       "    .dataframe tbody tr th {\n",
       "        vertical-align: top;\n",
       "    }\n",
       "\n",
       "    .dataframe thead th {\n",
       "        text-align: right;\n",
       "    }\n",
       "</style>\n",
       "<table border=\"1\" class=\"dataframe\">\n",
       "  <thead>\n",
       "    <tr style=\"text-align: right;\">\n",
       "      <th></th>\n",
       "      <th>error</th>\n",
       "    </tr>\n",
       "  </thead>\n",
       "  <tbody>\n",
       "    <tr>\n",
       "      <th>0</th>\n",
       "      <td>8502.123373</td>\n",
       "    </tr>\n",
       "    <tr>\n",
       "      <th>1</th>\n",
       "      <td>2951.162691</td>\n",
       "    </tr>\n",
       "    <tr>\n",
       "      <th>2</th>\n",
       "      <td>1837.628301</td>\n",
       "    </tr>\n",
       "    <tr>\n",
       "      <th>3</th>\n",
       "      <td>1320.174099</td>\n",
       "    </tr>\n",
       "    <tr>\n",
       "      <th>4</th>\n",
       "      <td>1038.680814</td>\n",
       "    </tr>\n",
       "    <tr>\n",
       "      <th>5</th>\n",
       "      <td>853.998275</td>\n",
       "    </tr>\n",
       "    <tr>\n",
       "      <th>6</th>\n",
       "      <td>703.530029</td>\n",
       "    </tr>\n",
       "    <tr>\n",
       "      <th>7</th>\n",
       "      <td>561.048490</td>\n",
       "    </tr>\n",
       "    <tr>\n",
       "      <th>8</th>\n",
       "      <td>470.656435</td>\n",
       "    </tr>\n",
       "  </tbody>\n",
       "</table>\n",
       "</div>"
      ],
      "text/plain": [
       "         error\n",
       "0  8502.123373\n",
       "1  2951.162691\n",
       "2  1837.628301\n",
       "3  1320.174099\n",
       "4  1038.680814\n",
       "5   853.998275\n",
       "6   703.530029\n",
       "7   561.048490\n",
       "8   470.656435"
      ]
     },
     "execution_count": 139,
     "metadata": {},
     "output_type": "execute_result"
    }
   ],
   "source": [
    "d = []\n",
    "K = range(1,10)\n",
    "for k in K:\n",
    "    kmean_model = KMeans(n_clusters=k).fit(features[columns])\n",
    "    d.append(kmean_model.inertia_)\n",
    "distortions = pd.DataFrame(d, columns=[\"error\"])\n",
    "distortions"
   ]
  },
  {
   "cell_type": "code",
   "execution_count": 140,
   "metadata": {},
   "outputs": [
    {
     "data": {
      "image/png": "[encoded data removed]",
      "text/plain": [
       "<Figure size 1280x1280 with 1 Axes>"
      ]
     },
     "metadata": {
      "needs_background": "light"
     },
     "output_type": "display_data"
    },
    {
     "data": {
      "text/plain": [
       "<ggplot: (8790527800908)>"
      ]
     },
     "execution_count": 140,
     "metadata": {},
     "output_type": "execute_result"
    }
   ],
   "source": [
    "(\n",
    "    p9.ggplot(distortions) + \n",
    "    p9.geom_line(p9.aes(x=\"distortions.index\", y=\"error\")) + \n",
    "    p9.theme_minimal()\n",
    ")"
   ]
  },
  {
   "cell_type": "code",
   "execution_count": 141,
   "metadata": {},
   "outputs": [],
   "source": [
    "kmean_model = KMeans(n_clusters=5).fit(features[columns])\n",
    "joined['labels'] = kmean_model.labels_\n",
    "joined[\"text\"] = joined[\"name\"].astype(str) + joined[\"artist_flat\"].astype(str)\n",
    "joined['labels'] = joined['labels'].astype('category')"
   ]
  },
  {
   "cell_type": "code",
   "execution_count": 149,
   "metadata": {},
   "outputs": [
    {
     "data": {
      "image/png": "[encoded data removed]",
      "text/plain": [
       "<Figure size 1280x1280 with 1 Axes>"
      ]
     },
     "metadata": {
      "needs_background": "light"
     },
     "output_type": "display_data"
    },
    {
     "data": {
      "text/plain": [
       "<ggplot: (8790508107451)>"
      ]
     },
     "execution_count": 149,
     "metadata": {},
     "output_type": "execute_result"
    }
   ],
   "source": [
    "(\n",
    "    p9.ggplot(joined) + \n",
    "    p9.geom_point(p9.aes(x='x', y='y', color='labels'),  show_legend=False) +\n",
    "    p9.geom_text(p9.aes(x='x', y='y', label='text', color='factor(labels)', size=5), show_legend=False, position=p9.position_jitterdodge(jitter_height=0.5)) + \n",
    "    p9.theme_minimal()\n",
    ")"
   ]
  },
  {
   "cell_type": "code",
   "execution_count": 144,
   "metadata": {},
   "outputs": [],
   "source": [
    "import plotly.express as px"
   ]
  },
  {
   "cell_type": "code",
   "execution_count": 193,
   "metadata": {},
   "outputs": [
    {
     "data": {
      "application/vnd.plotly.v1+json": {
       "config": {
        "plotlyServerURL": "https://plot.ly"
       },
       "data": [
        {
         "customdata": [
          [
           "Fade Away (feat. INNA)['Sam Feldt', 'Lush & Simon', 'INNA']",
           0.69,
           0.713,
           4,
           -3.246,
           0.0329,
           0.0314,
           0,
           0.337,
           0.388,
           105.06
          ],
          [
           "Getaway['Syn Cole']",
           0.742,
           0.836,
           6,
           -3.501,
           0.0356,
           0.224,
           0,
           0.111,
           0.673,
           110.031
          ],
          [
           "Everywhere (feat. Maya Avedis)['XO Cupid', 'Maya Avedis']",
           0.732,
           0.619,
           5,
           -5.123,
           0.0326,
           0.34,
           0.000623,
           0.127,
           0.622,
           108.04
          ],
          [
           "I Miss You['Embody']",
           0.702,
           0.828,
           0,
           -3.068,
           0.0312,
           0.0163,
           7.61e-06,
           0.0732,
           0.862,
           105.024
          ],
          [
           "False Confidence['Noah Kahan']",
           0.414,
           0.663,
           6,
           -7.77,
           0.0456,
           0.163,
           0,
           0.138,
           0.33,
           108.98
          ],
          [
           "What I Like About You (feat. Theresa Rex)['Jonas Blue', 'Theresa Rex']",
           0.46,
           0.8,
           1,
           -3.584,
           0.05,
           0.289,
           6.16e-06,
           0.121,
           0.553,
           102.46
          ],
          [
           "Bruised Not Broken (feat. MNEK & Kiana Ledé)['Matoma', 'MNEK', 'Kiana Ledé']",
           0.764,
           0.573,
           6,
           -4.385,
           0.0484,
           0.109,
           0,
           0.324,
           0.685,
           110.006
          ],
          [
           "All Star['Mike Perry', 'Ten Times', 'Hot Shade', 'whoisFIYAH']",
           0.66,
           0.852,
           7,
           -3.573,
           0.0378,
           0.016,
           0,
           0.203,
           0.594,
           103.988
          ],
          [
           "Only Want You - Sam Feldt Remix['Rita Ora', 'Sam Feldt']",
           0.578,
           0.786,
           9,
           -4.665,
           0.13,
           0.232,
           0.000106,
           0.122,
           0.347,
           105.945
          ],
          [
           "Wait For You (feat. Maia Wright)['Mike Williams', 'Maia Wright']",
           0.476,
           0.735,
           1,
           -4.166,
           0.0429,
           0.2,
           0,
           0.181,
           0.405,
           109.562
          ],
          [
           "Fade Out['Seeb', \"Olivia O'Brien\", 'Space Primates']",
           0.706,
           0.68,
           4,
           -4.65,
           0.0424,
           0.118,
           0,
           0.0443,
           0.728,
           105.977
          ],
          [
           "Tie Me Down (with Elley Duhé) - Steve Aoki Remix['Gryffin', 'Elley Duhé', 'Steve Aoki']",
           0.715,
           0.788,
           6,
           -4.271,
           0.066,
           0.0874,
           0,
           0.195,
           0.372,
           110.041
          ],
          [
           "Wherever You Go['Jonas Blue', 'Jessie Reyez', 'Juan Magán']",
           0.711,
           0.724,
           7,
           -4.809,
           0.106,
           0.0835,
           0,
           0.0389,
           0.478,
           104.048
          ],
          [
           "What I'd Give['LVNDSCAPE']",
           0.745,
           0.669,
           9,
           -5.204,
           0.0316,
           0.00761,
           0,
           0.118,
           0.513,
           107.02
          ],
          [
           "Harder (with Bebe Rexha)['Jax Jones', 'Bebe Rexha']",
           0.906,
           0.833,
           5,
           -3.027,
           0.0729,
           0.0899,
           0,
           0.154,
           0.752,
           104.017
          ]
         ],
         "hovertemplate": "labels=4<br>x=%{x}<br>y=%{y}<br>z=%{z}<br>text=%{customdata[0]}<br>danceability=%{customdata[1]}<br>energy=%{customdata[2]}<br>key=%{customdata[3]}<br>loudness=%{customdata[4]}<br>speechiness=%{customdata[5]}<br>acousticness=%{customdata[6]}<br>instrumentalness=%{customdata[7]}<br>liveness=%{customdata[8]}<br>valence=%{customdata[9]}<br>tempo=%{customdata[10]}<extra></extra>",
         "legendgroup": "4",
         "marker": {
          "color": "#636efa",
          "symbol": "circle"
         },
         "mode": "markers",
         "name": "4",
         "scene": "scene",
         "showlegend": true,
         "type": "scatter3d",
         "x": [
          4.4963202476501465,
          4.525044918060303,
          4.567859172821045,
          4.8115553855896,
          4.308154106140137,
          4.757491111755371,
          4.292447090148926,
          4.293880939483643,
          3.8600571155548096,
          4.724129676818848,
          4.506664752960205,
          4.40164852142334,
          4.0023932456970215,
          3.9843087196350098,
          4.32691764831543
         ],
         "y": [
          11.202828407287598,
          10.460169792175293,
          10.92733383178711,
          11.30942153930664,
          10.77197265625,
          11.636350631713867,
          10.507527351379395,
          11.735123634338379,
          11.327073097229004,
          10.933332443237305,
          11.365784645080566,
          10.498285293579102,
          11.58060073852539,
          11.135269165039062,
          11.421050071716309
         ],
         "z": [
          3.5212106704711914,
          4.057872772216797,
          4.19937801361084,
          3.674935817718506,
          4.2351555824279785,
          3.5408778190612793,
          4.022866725921631,
          3.668053388595581,
          3.8934566974639893,
          4.049013137817383,
          4.015006065368652,
          4.431702613830566,
          3.4980733394622803,
          3.8099987506866455,
          3.4640417098999023
         ]
        },
        {
         "customdata": [
          [
           "Make That Call['Ted Nights']",
           0.787,
           0.67,
           6,
           -5.484,
           0.0369,
           0.208,
           1.83e-05,
           0.0465,
           0.58,
           118.064
          ],
          [
           "Somebody I'm Not - Cahill Edit['Martin Jensen', 'Bjørnskov', 'Cahill']",
           0.678,
           0.849,
           9,
           -6.5,
           0.041,
           0.00105,
           0.000152,
           0.0661,
           0.685,
           122.015
          ],
          [
           "Ain't Thinkin Bout You (feat. Louisa)['KREAM', 'Eden Prince', 'Louisa']",
           0.784,
           0.761,
           9,
           -4.533,
           0.0351,
           0.00653,
           0.000463,
           0.0984,
           0.525,
           123.971
          ],
          [
           "Don’t Give Up On Me Now (with Julie Bergan)['R3HAB', 'Julie Bergan']",
           0.687,
           0.706,
           4,
           -5.357,
           0.0459,
           0.091,
           0,
           0.124,
           0.27,
           115.268
          ],
          [
           "Leave['Borgeous', 'Jordyn Jones']",
           0.762,
           0.665,
           11,
           -6.92,
           0.0471,
           0.169,
           0,
           0.103,
           0.961,
           115.946
          ],
          [
           "Body Back (feat. Maia Wright)['Gryffin', 'Maia Wright']",
           0.687,
           0.832,
           8,
           -4.434,
           0.0366,
           0.0931,
           1.32e-06,
           0.183,
           0.448,
           123.036
          ],
          [
           "Beautiful['MOTi', 'JETFIRE', 'Lovespeake']",
           0.722,
           0.777,
           7,
           -5.438,
           0.0386,
           0.0318,
           0,
           0.0756,
           0.397,
           117.015
          ],
          [
           "Changes['Mike Perry', 'Dimitri Vangelis & Wyman', 'Ten Times', 'The Companions']",
           0.716,
           0.748,
           10,
           -4.656,
           0.0364,
           0.0667,
           0,
           0.0581,
           0.47,
           120.031
          ],
          [
           "So Close['NOTD', 'Felix Jaehn', 'Captain Cuts', 'Georgia Ku']",
           0.7,
           0.872,
           10,
           -5.896,
           0.0666,
           0.121,
           7.08e-06,
           0.103,
           0.761,
           125.03
          ],
          [
           "One Day (feat. ROZES)['Sam Feldt', 'Yves V', 'ROZES']",
           0.668,
           0.858,
           8,
           -4.048,
           0.0431,
           0.181,
           0,
           0.34,
           0.332,
           122.082
          ],
          [
           "Carry On (from the Original Motion Picture \"POKÉMON Detective Pikachu\")['Kygo', 'Rita Ora']",
           0.591,
           0.705,
           9,
           -6.519,
           0.079,
           0.381,
           0.000116,
           0.131,
           0.27,
           121.799
          ],
          [
           "Polaroid['Jonas Blue', 'Liam Payne', 'Lennon Stella']",
           0.652,
           0.898,
           7,
           -4.481,
           0.0361,
           0.29,
           0,
           0.073,
           0.472,
           114.043
          ],
          [
           "Think About You - Galantis Remix['Kygo', 'Valerie Broussard', 'Galantis']",
           0.621,
           0.898,
           10,
           -4.569,
           0.0401,
           0.0976,
           1.08e-05,
           0.404,
           0.332,
           124.018
          ]
         ],
         "hovertemplate": "labels=2<br>x=%{x}<br>y=%{y}<br>z=%{z}<br>text=%{customdata[0]}<br>danceability=%{customdata[1]}<br>energy=%{customdata[2]}<br>key=%{customdata[3]}<br>loudness=%{customdata[4]}<br>speechiness=%{customdata[5]}<br>acousticness=%{customdata[6]}<br>instrumentalness=%{customdata[7]}<br>liveness=%{customdata[8]}<br>valence=%{customdata[9]}<br>tempo=%{customdata[10]}<extra></extra>",
         "legendgroup": "2",
         "marker": {
          "color": "#EF553B",
          "symbol": "circle"
         },
         "mode": "markers",
         "name": "2",
         "scene": "scene",
         "showlegend": true,
         "type": "scatter3d",
         "x": [
          4.5884809494018555,
          3.900789737701416,
          3.9051201343536377,
          4.509442329406738,
          4.4224934577941895,
          4.466396808624268,
          4.701066017150879,
          4.1859517097473145,
          4.077498912811279,
          4.294720649719238,
          4.092695713043213,
          4.52178955078125,
          3.998199701309204
         ],
         "y": [
          8.6268949508667,
          8.014615058898926,
          7.625111103057861,
          9.063921928405762,
          8.885588645935059,
          7.574522018432617,
          8.915984153747559,
          8.313667297363281,
          7.750733375549316,
          7.8986945152282715,
          8.213513374328613,
          9.429215431213379,
          7.7056989669799805
         ],
         "z": [
          4.566514492034912,
          4.894836902618408,
          4.884263515472412,
          4.312762260437012,
          4.8175435066223145,
          4.868862152099609,
          4.687714099884033,
          4.9482340812683105,
          5.3704986572265625,
          4.868296146392822,
          5.136514663696289,
          4.477242946624756,
          5.043445587158203
         ]
        },
        {
         "customdata": [
          [
           "Wild Ones['Theresa Rex']",
           0.747,
           0.586,
           5,
           -5.774,
           0.0491,
           0.451,
           0,
           0.252,
           0.783,
           91.995
          ],
          [
           "Wishing Well (feat. Olivia Sebastianelli)['Sam Feldt', 'Olivia Sebastianelli']",
           0.698,
           0.653,
           9,
           -6.365,
           0.0521,
           0.424,
           0,
           0.321,
           0.381,
           100.976
          ],
          [
           "Wanted['NOTD', 'Daya']",
           0.693,
           0.674,
           5,
           -4.449,
           0.0723,
           0.185,
           0,
           0.0639,
           0.378,
           95.972
          ],
          [
           "Somebody I'm Not['Martin Jensen', 'Bjørnskov']",
           0.718,
           0.725,
           9,
           -5.409,
           0.0519,
           0.153,
           0,
           0.32,
           0.65,
           100.044
          ],
          [
           "Start It Over (feat. CVBZ & Shy Martin)['NOTD', 'CVBZ', 'SHY Martin']",
           0.712,
           0.839,
           10,
           -5.136,
           0.26,
           0.173,
           0,
           0.0814,
           0.565,
           99.909
          ],
          [
           "Tell Your Friends (feat. Loote)['The Him', 'Loote']",
           0.489,
           0.796,
           3,
           -7.567,
           0.234,
           0.0122,
           9.45e-06,
           0.148,
           0.63,
           88.923
          ],
          [
           "Tie Me Down (with Elley Duhé)['Gryffin', 'Elley Duhé']",
           0.608,
           0.845,
           6,
           -2.292,
           0.0597,
           0.136,
           0,
           0.111,
           0.322,
           98.976
          ]
         ],
         "hovertemplate": "labels=0<br>x=%{x}<br>y=%{y}<br>z=%{z}<br>text=%{customdata[0]}<br>danceability=%{customdata[1]}<br>energy=%{customdata[2]}<br>key=%{customdata[3]}<br>loudness=%{customdata[4]}<br>speechiness=%{customdata[5]}<br>acousticness=%{customdata[6]}<br>instrumentalness=%{customdata[7]}<br>liveness=%{customdata[8]}<br>valence=%{customdata[9]}<br>tempo=%{customdata[10]}<extra></extra>",
         "legendgroup": "0",
         "marker": {
          "color": "#00cc96",
          "symbol": "circle"
         },
         "mode": "markers",
         "name": "0",
         "scene": "scene",
         "showlegend": true,
         "type": "scatter3d",
         "x": [
          4.223016262054443,
          4.316439151763916,
          4.367011070251465,
          4.584542274475098,
          4.2308197021484375,
          4.210843086242676,
          4.462500095367432
         ],
         "y": [
          12.006240844726562,
          12.187524795532227,
          12.11524486541748,
          11.823583602905273,
          12.053701400756836,
          11.78144359588623,
          11.98927116394043
         ],
         "z": [
          2.677541732788086,
          3.547907829284668,
          2.8398890495300293,
          2.969294548034668,
          3.2933223247528076,
          2.7927939891815186,
          3.15071702003479
         ]
        },
        {
         "customdata": [
          [
           "I'm Going Like['Hallman']",
           0.659,
           0.803,
           4,
           -6.945,
           0.0368,
           0.0207,
           0.803,
           0.16,
           0.336,
           125.986
          ],
          [
           "Starfields['Hallman']",
           0.609,
           0.845,
           2,
           -5.766,
           0.034,
           0.19,
           0.0158,
           0.2,
           0.337,
           119.926
          ],
          [
           "Here Comes The Sun - Remastered 2009['The Beatles']",
           0.557,
           0.54,
           9,
           -10.484,
           0.0347,
           0.0339,
           0.00248,
           0.179,
           0.394,
           129.171
          ],
          [
           "Slow Dance (feat. Ava Max) - Sam Feldt Remix['AJ Mitchell', 'Ava Max', 'Sam Feldt']",
           0.732,
           0.85,
           1,
           -5.999,
           0.0444,
           0.114,
           2.02e-06,
           0.0388,
           0.372,
           124.024
          ],
          [
           "Pachelbel's['CVBE']",
           0.581,
           0.92,
           0,
           -6.733,
           0.0383,
           0.0145,
           0.453,
           0.116,
           0.528,
           128.067
          ],
          [
           "I Miss Myself - R3HAB Remix['NOTD', 'HRVY', 'R3HAB']",
           0.502,
           0.78,
           0,
           -4.547,
           0.244,
           0.333,
           0,
           0.72,
           0.607,
           122.688
          ],
          [
           "We’re The Same‬‬['Vigiland', 'Alexander Tidebrink']",
           0.671,
           0.597,
           2,
           -7.891,
           0.0333,
           0.094,
           0,
           0.0881,
           0.363,
           125.973
          ],
          [
           "Over You['Hogland', 'Jazz Mino']",
           0.505,
           0.572,
           0,
           -5.561,
           0.0518,
           0.179,
           0,
           0.225,
           0.273,
           126.005
          ],
          [
           "Sunday Morning (feat. Josie Dunne)['Matoma', 'Josie Dunne']",
           0.629,
           0.723,
           6,
           -5.688,
           0.0507,
           0.111,
           0,
           0.197,
           0.411,
           123.997
          ],
          [
           "Dive['Hot Shade', 'Mike Perry', 'Chris James']",
           0.654,
           0.787,
           4,
           -4.999,
           0.0502,
           0.00515,
           0,
           0.144,
           0.409,
           123.978
          ],
          [
           "Cross My Heart['Hogland', 'Philip Strand']",
           0.645,
           0.792,
           3,
           -5.773,
           0.108,
           0.143,
           0,
           0.358,
           0.678,
           126.113
          ],
          [
           "Where Have You Gone (Anywhere)['Lucas & Steve']",
           0.618,
           0.767,
           5,
           -5.024,
           0.0489,
           0.00552,
           0,
           0.147,
           0.239,
           124.071
          ]
         ],
         "hovertemplate": "labels=1<br>x=%{x}<br>y=%{y}<br>z=%{z}<br>text=%{customdata[0]}<br>danceability=%{customdata[1]}<br>energy=%{customdata[2]}<br>key=%{customdata[3]}<br>loudness=%{customdata[4]}<br>speechiness=%{customdata[5]}<br>acousticness=%{customdata[6]}<br>instrumentalness=%{customdata[7]}<br>liveness=%{customdata[8]}<br>valence=%{customdata[9]}<br>tempo=%{customdata[10]}<extra></extra>",
         "legendgroup": "1",
         "marker": {
          "color": "#ab63fa",
          "symbol": "circle"
         },
         "mode": "markers",
         "name": "1",
         "scene": "scene",
         "showlegend": true,
         "type": "scatter3d",
         "x": [
          3.586920976638794,
          4.577210426330566,
          3.8532731533050537,
          4.066127777099609,
          3.827033042907715,
          4.357341289520264,
          3.6483023166656494,
          3.6924350261688232,
          3.9998223781585693,
          4.142090797424316,
          3.950383424758911,
          4.166940212249756
         ],
         "y": [
          6.871467590332031,
          6.6626691818237305,
          7.443300247192383,
          6.377416133880615,
          6.506309986114502,
          6.466169834136963,
          6.594011306762695,
          6.302622318267822,
          7.127382755279541,
          6.719953536987305,
          6.714297294616699,
          7.077919960021973
         ],
         "z": [
          5.381268501281738,
          5.153927326202393,
          5.692424774169922,
          5.537796497344971,
          5.680594444274902,
          5.507176876068115,
          5.851425647735596,
          5.532715320587158,
          4.941036701202393,
          5.111647129058838,
          5.527163505554199,
          5.214138031005859
         ]
        },
        {
         "customdata": [
          [
           "Keep You Mine['NOTD', 'SHY Martin']",
           0.81,
           0.788,
           10,
           -3.663,
           0.0447,
           0.267,
           0.000172,
           0.196,
           0.845,
           135.991
          ],
          [
           "All You Need To Know (feat. Calle Lehmann)['Gryffin', 'SLANDER', 'Calle Lehmann']",
           0.53,
           0.729,
           0,
           -6.019,
           0.0376,
           0.00699,
           0,
           0.103,
           0.219,
           139.929
          ],
          [
           "Here We Go Again['Sigma', 'Louisa']",
           0.535,
           0.842,
           4,
           -3.094,
           0.0846,
           0.132,
           0,
           0.148,
           0.598,
           152.807
          ]
         ],
         "hovertemplate": "labels=3<br>x=%{x}<br>y=%{y}<br>z=%{z}<br>text=%{customdata[0]}<br>danceability=%{customdata[1]}<br>energy=%{customdata[2]}<br>key=%{customdata[3]}<br>loudness=%{customdata[4]}<br>speechiness=%{customdata[5]}<br>acousticness=%{customdata[6]}<br>instrumentalness=%{customdata[7]}<br>liveness=%{customdata[8]}<br>valence=%{customdata[9]}<br>tempo=%{customdata[10]}<extra></extra>",
         "legendgroup": "3",
         "marker": {
          "color": "#FFA15A",
          "symbol": "circle"
         },
         "mode": "markers",
         "name": "3",
         "scene": "scene",
         "showlegend": true,
         "type": "scatter3d",
         "x": [
          4.007284164428711,
          3.9359676837921143,
          4.2220001220703125
         ],
         "y": [
          7.459102153778076,
          6.990121841430664,
          7.21560525894165
         ],
         "z": [
          5.970120906829834,
          6.140374660491943,
          6.111869812011719
         ]
        }
       ],
       "layout": {
        "legend": {
         "title": {
          "text": "labels"
         },
         "tracegroupgap": 0
        },
        "margin": {
         "t": 60
        },
        "scene": {
         "domain": {
          "x": [
           0,
           1
          ],
          "y": [
           0,
           1
          ]
         },
         "xaxis": {
          "title": {
           "text": "x"
          }
         },
         "yaxis": {
          "title": {
           "text": "y"
          }
         },
         "zaxis": {
          "title": {
           "text": "z"
          }
         }
        },
        "template": {
         "data": {
          "bar": [
           {
            "error_x": {
             "color": "#2a3f5f"
            },
            "error_y": {
             "color": "#2a3f5f"
            },
            "marker": {
             "line": {
              "color": "#E5ECF6",
              "width": 0.5
             }
            },
            "type": "bar"
           }
          ],
          "barpolar": [
           {
            "marker": {
             "line": {
              "color": "#E5ECF6",
              "width": 0.5
             }
            },
            "type": "barpolar"
           }
          ],
          "carpet": [
           {
            "aaxis": {
             "endlinecolor": "#2a3f5f",
             "gridcolor": "white",
             "linecolor": "white",
             "minorgridcolor": "white",
             "startlinecolor": "#2a3f5f"
            },
            "baxis": {
             "endlinecolor": "#2a3f5f",
             "gridcolor": "white",
             "linecolor": "white",
             "minorgridcolor": "white",
             "startlinecolor": "#2a3f5f"
            },
            "type": "carpet"
           }
          ],
          "choropleth": [
           {
            "colorbar": {
             "outlinewidth": 0,
             "ticks": ""
            },
            "type": "choropleth"
           }
          ],
          "contour": [
           {
            "colorbar": {
             "outlinewidth": 0,
             "ticks": ""
            },
            "colorscale": [
             [
              0,
              "#0d0887"
             ],
             [
              0.1111111111111111,
              "#46039f"
             ],
             [
              0.2222222222222222,
              "#7201a8"
             ],
             [
              0.3333333333333333,
              "#9c179e"
             ],
             [
              0.4444444444444444,
              "#bd3786"
             ],
             [
              0.5555555555555556,
              "#d8576b"
             ],
             [
              0.6666666666666666,
              "#ed7953"
             ],
             [
              0.7777777777777778,
              "#fb9f3a"
             ],
             [
              0.8888888888888888,
              "#fdca26"
             ],
             [
              1,
              "#f0f921"
             ]
            ],
            "type": "contour"
           }
          ],
          "contourcarpet": [
           {
            "colorbar": {
             "outlinewidth": 0,
             "ticks": ""
            },
            "type": "contourcarpet"
           }
          ],
          "heatmap": [
           {
            "colorbar": {
             "outlinewidth": 0,
             "ticks": ""
            },
            "colorscale": [
             [
              0,
              "#0d0887"
             ],
             [
              0.1111111111111111,
              "#46039f"
             ],
             [
              0.2222222222222222,
              "#7201a8"
             ],
             [
              0.3333333333333333,
              "#9c179e"
             ],
             [
              0.4444444444444444,
              "#bd3786"
             ],
             [
              0.5555555555555556,
              "#d8576b"
             ],
             [
              0.6666666666666666,
              "#ed7953"
             ],
             [
              0.7777777777777778,
              "#fb9f3a"
             ],
             [
              0.8888888888888888,
              "#fdca26"
             ],
             [
              1,
              "#f0f921"
             ]
            ],
            "type": "heatmap"
           }
          ],
          "heatmapgl": [
           {
            "colorbar": {
             "outlinewidth": 0,
             "ticks": ""
            },
            "colorscale": [
             [
              0,
              "#0d0887"
             ],
             [
              0.1111111111111111,
              "#46039f"
             ],
             [
              0.2222222222222222,
              "#7201a8"
             ],
             [
              0.3333333333333333,
              "#9c179e"
             ],
             [
              0.4444444444444444,
              "#bd3786"
             ],
             [
              0.5555555555555556,
              "#d8576b"
             ],
             [
              0.6666666666666666,
              "#ed7953"
             ],
             [
              0.7777777777777778,
              "#fb9f3a"
             ],
             [
              0.8888888888888888,
              "#fdca26"
             ],
             [
              1,
              "#f0f921"
             ]
            ],
            "type": "heatmapgl"
           }
          ],
          "histogram": [
           {
            "marker": {
             "colorbar": {
              "outlinewidth": 0,
              "ticks": ""
             }
            },
            "type": "histogram"
           }
          ],
          "histogram2d": [
           {
            "colorbar": {
             "outlinewidth": 0,
             "ticks": ""
            },
            "colorscale": [
             [
              0,
              "#0d0887"
             ],
             [
              0.1111111111111111,
              "#46039f"
             ],
             [
              0.2222222222222222,
              "#7201a8"
             ],
             [
              0.3333333333333333,
              "#9c179e"
             ],
             [
              0.4444444444444444,
              "#bd3786"
             ],
             [
              0.5555555555555556,
              "#d8576b"
             ],
             [
              0.6666666666666666,
              "#ed7953"
             ],
             [
              0.7777777777777778,
              "#fb9f3a"
             ],
             [
              0.8888888888888888,
              "#fdca26"
             ],
             [
              1,
              "#f0f921"
             ]
            ],
            "type": "histogram2d"
           }
          ],
          "histogram2dcontour": [
           {
            "colorbar": {
             "outlinewidth": 0,
             "ticks": ""
            },
            "colorscale": [
             [
              0,
              "#0d0887"
             ],
             [
              0.1111111111111111,
              "#46039f"
             ],
             [
              0.2222222222222222,
              "#7201a8"
             ],
             [
              0.3333333333333333,
              "#9c179e"
             ],
             [
              0.4444444444444444,
              "#bd3786"
             ],
             [
              0.5555555555555556,
              "#d8576b"
             ],
             [
              0.6666666666666666,
              "#ed7953"
             ],
             [
              0.7777777777777778,
              "#fb9f3a"
             ],
             [
              0.8888888888888888,
              "#fdca26"
             ],
             [
              1,
              "#f0f921"
             ]
            ],
            "type": "histogram2dcontour"
           }
          ],
          "mesh3d": [
           {
            "colorbar": {
             "outlinewidth": 0,
             "ticks": ""
            },
            "type": "mesh3d"
           }
          ],
          "parcoords": [
           {
            "line": {
             "colorbar": {
              "outlinewidth": 0,
              "ticks": ""
             }
            },
            "type": "parcoords"
           }
          ],
          "pie": [
           {
            "automargin": true,
            "type": "pie"
           }
          ],
          "scatter": [
           {
            "marker": {
             "colorbar": {
              "outlinewidth": 0,
              "ticks": ""
             }
            },
            "type": "scatter"
           }
          ],
          "scatter3d": [
           {
            "line": {
             "colorbar": {
              "outlinewidth": 0,
              "ticks": ""
             }
            },
            "marker": {
             "colorbar": {
              "outlinewidth": 0,
              "ticks": ""
             }
            },
            "type": "scatter3d"
           }
          ],
          "scattercarpet": [
           {
            "marker": {
             "colorbar": {
              "outlinewidth": 0,
              "ticks": ""
             }
            },
            "type": "scattercarpet"
           }
          ],
          "scattergeo": [
           {
            "marker": {
             "colorbar": {
              "outlinewidth": 0,
              "ticks": ""
             }
            },
            "type": "scattergeo"
           }
          ],
          "scattergl": [
           {
            "marker": {
             "colorbar": {
              "outlinewidth": 0,
              "ticks": ""
             }
            },
            "type": "scattergl"
           }
          ],
          "scattermapbox": [
           {
            "marker": {
             "colorbar": {
              "outlinewidth": 0,
              "ticks": ""
             }
            },
            "type": "scattermapbox"
           }
          ],
          "scatterpolar": [
           {
            "marker": {
             "colorbar": {
              "outlinewidth": 0,
              "ticks": ""
             }
            },
            "type": "scatterpolar"
           }
          ],
          "scatterpolargl": [
           {
            "marker": {
             "colorbar": {
              "outlinewidth": 0,
              "ticks": ""
             }
            },
            "type": "scatterpolargl"
           }
          ],
          "scatterternary": [
           {
            "marker": {
             "colorbar": {
              "outlinewidth": 0,
              "ticks": ""
             }
            },
            "type": "scatterternary"
           }
          ],
          "surface": [
           {
            "colorbar": {
             "outlinewidth": 0,
             "ticks": ""
            },
            "colorscale": [
             [
              0,
              "#0d0887"
             ],
             [
              0.1111111111111111,
              "#46039f"
             ],
             [
              0.2222222222222222,
              "#7201a8"
             ],
             [
              0.3333333333333333,
              "#9c179e"
             ],
             [
              0.4444444444444444,
              "#bd3786"
             ],
             [
              0.5555555555555556,
              "#d8576b"
             ],
             [
              0.6666666666666666,
              "#ed7953"
             ],
             [
              0.7777777777777778,
              "#fb9f3a"
             ],
             [
              0.8888888888888888,
              "#fdca26"
             ],
             [
              1,
              "#f0f921"
             ]
            ],
            "type": "surface"
           }
          ],
          "table": [
           {
            "cells": {
             "fill": {
              "color": "#EBF0F8"
             },
             "line": {
              "color": "white"
             }
            },
            "header": {
             "fill": {
              "color": "#C8D4E3"
             },
             "line": {
              "color": "white"
             }
            },
            "type": "table"
           }
          ]
         },
         "layout": {
          "annotationdefaults": {
           "arrowcolor": "#2a3f5f",
           "arrowhead": 0,
           "arrowwidth": 1
          },
          "coloraxis": {
           "colorbar": {
            "outlinewidth": 0,
            "ticks": ""
           }
          },
          "colorscale": {
           "diverging": [
            [
             0,
             "#8e0152"
            ],
            [
             0.1,
             "#c51b7d"
            ],
            [
             0.2,
             "#de77ae"
            ],
            [
             0.3,
             "#f1b6da"
            ],
            [
             0.4,
             "#fde0ef"
            ],
            [
             0.5,
             "#f7f7f7"
            ],
            [
             0.6,
             "#e6f5d0"
            ],
            [
             0.7,
             "#b8e186"
            ],
            [
             0.8,
             "#7fbc41"
            ],
            [
             0.9,
             "#4d9221"
            ],
            [
             1,
             "#276419"
            ]
           ],
           "sequential": [
            [
             0,
             "#0d0887"
            ],
            [
             0.1111111111111111,
             "#46039f"
            ],
            [
             0.2222222222222222,
             "#7201a8"
            ],
            [
             0.3333333333333333,
             "#9c179e"
            ],
            [
             0.4444444444444444,
             "#bd3786"
            ],
            [
             0.5555555555555556,
             "#d8576b"
            ],
            [
             0.6666666666666666,
             "#ed7953"
            ],
            [
             0.7777777777777778,
             "#fb9f3a"
            ],
            [
             0.8888888888888888,
             "#fdca26"
            ],
            [
             1,
             "#f0f921"
            ]
           ],
           "sequentialminus": [
            [
             0,
             "#0d0887"
            ],
            [
             0.1111111111111111,
             "#46039f"
            ],
            [
             0.2222222222222222,
             "#7201a8"
            ],
            [
             0.3333333333333333,
             "#9c179e"
            ],
            [
             0.4444444444444444,
             "#bd3786"
            ],
            [
             0.5555555555555556,
             "#d8576b"
            ],
            [
             0.6666666666666666,
             "#ed7953"
            ],
            [
             0.7777777777777778,
             "#fb9f3a"
            ],
            [
             0.8888888888888888,
             "#fdca26"
            ],
            [
             1,
             "#f0f921"
            ]
           ]
          },
          "colorway": [
           "#636efa",
           "#EF553B",
           "#00cc96",
           "#ab63fa",
           "#FFA15A",
           "#19d3f3",
           "#FF6692",
           "#B6E880",
           "#FF97FF",
           "#FECB52"
          ],
          "font": {
           "color": "#2a3f5f"
          },
          "geo": {
           "bgcolor": "white",
           "lakecolor": "white",
           "landcolor": "#E5ECF6",
           "showlakes": true,
           "showland": true,
           "subunitcolor": "white"
          },
          "hoverlabel": {
           "align": "left"
          },
          "hovermode": "closest",
          "mapbox": {
           "style": "light"
          },
          "paper_bgcolor": "white",
          "plot_bgcolor": "#E5ECF6",
          "polar": {
           "angularaxis": {
            "gridcolor": "white",
            "linecolor": "white",
            "ticks": ""
           },
           "bgcolor": "#E5ECF6",
           "radialaxis": {
            "gridcolor": "white",
            "linecolor": "white",
            "ticks": ""
           }
          },
          "scene": {
           "xaxis": {
            "backgroundcolor": "#E5ECF6",
            "gridcolor": "white",
            "gridwidth": 2,
            "linecolor": "white",
            "showbackground": true,
            "ticks": "",
            "zerolinecolor": "white"
           },
           "yaxis": {
            "backgroundcolor": "#E5ECF6",
            "gridcolor": "white",
            "gridwidth": 2,
            "linecolor": "white",
            "showbackground": true,
            "ticks": "",
            "zerolinecolor": "white"
           },
           "zaxis": {
            "backgroundcolor": "#E5ECF6",
            "gridcolor": "white",
            "gridwidth": 2,
            "linecolor": "white",
            "showbackground": true,
            "ticks": "",
            "zerolinecolor": "white"
           }
          },
          "shapedefaults": {
           "line": {
            "color": "#2a3f5f"
           }
          },
          "ternary": {
           "aaxis": {
            "gridcolor": "white",
            "linecolor": "white",
            "ticks": ""
           },
           "baxis": {
            "gridcolor": "white",
            "linecolor": "white",
            "ticks": ""
           },
           "bgcolor": "#E5ECF6",
           "caxis": {
            "gridcolor": "white",
            "linecolor": "white",
            "ticks": ""
           }
          },
          "title": {
           "x": 0.05
          },
          "xaxis": {
           "automargin": true,
           "gridcolor": "white",
           "linecolor": "white",
           "ticks": "",
           "title": {
            "standoff": 15
           },
           "zerolinecolor": "white",
           "zerolinewidth": 2
          },
          "yaxis": {
           "automargin": true,
           "gridcolor": "white",
           "linecolor": "white",
           "ticks": "",
           "title": {
            "standoff": 15
           },
           "zerolinecolor": "white",
           "zerolinewidth": 2
          }
         }
        }
       }
      },
      "text/html": [
       "<div>\n",
       "        \n",
       "        \n",
       "            <div id=\"30d36838-e992-43a1-8229-53f57cc4368c\" class=\"plotly-graph-div\" style=\"height:525px; width:100%;\"></div>\n",
       "            <script type=\"text/javascript\">\n",
       "                require([\"plotly\"], function(Plotly) {\n",
       "                    window.PLOTLYENV=window.PLOTLYENV || {};\n",
       "                    \n",
       "                if (document.getElementById(\"30d36838-e992-43a1-8229-53f57cc4368c\")) {\n",
       "                    Plotly.newPlot(\n",
       "                        '30d36838-e992-43a1-8229-53f57cc4368c',\n",
       "                        [{\"customdata\": [[\"Fade Away (feat. INNA)['Sam Feldt', 'Lush & Simon', 'INNA']\", 0.69, 0.713, 4, -3.246, 0.0329, 0.0314, 0.0, 0.337, 0.388, 105.06], [\"Getaway['Syn Cole']\", 0.742, 0.836, 6, -3.501, 0.0356, 0.224, 0.0, 0.111, 0.673, 110.031], [\"Everywhere (feat. Maya Avedis)['XO Cupid', 'Maya Avedis']\", 0.732, 0.619, 5, -5.123, 0.0326, 0.34, 0.000623, 0.127, 0.622, 108.04], [\"I Miss You['Embody']\", 0.702, 0.828, 0, -3.068, 0.0312, 0.0163, 7.61e-06, 0.0732, 0.862, 105.024], [\"False Confidence['Noah Kahan']\", 0.414, 0.663, 6, -7.77, 0.0456, 0.163, 0.0, 0.138, 0.33, 108.98], [\"What I Like About You (feat. Theresa Rex)['Jonas Blue', 'Theresa Rex']\", 0.46, 0.8, 1, -3.584, 0.05, 0.289, 6.16e-06, 0.121, 0.553, 102.46], [\"Bruised Not Broken (feat. MNEK & Kiana Led\\u00e9)['Matoma', 'MNEK', 'Kiana Led\\u00e9']\", 0.764, 0.573, 6, -4.385, 0.0484, 0.109, 0.0, 0.324, 0.685, 110.006], [\"All Star['Mike Perry', 'Ten Times', 'Hot Shade', 'whoisFIYAH']\", 0.66, 0.852, 7, -3.573, 0.0378, 0.016, 0.0, 0.203, 0.594, 103.988], [\"Only Want You - Sam Feldt Remix['Rita Ora', 'Sam Feldt']\", 0.578, 0.786, 9, -4.665, 0.13, 0.232, 0.000106, 0.122, 0.347, 105.945], [\"Wait For You (feat. Maia Wright)['Mike Williams', 'Maia Wright']\", 0.476, 0.735, 1, -4.166, 0.0429, 0.2, 0.0, 0.181, 0.405, 109.562], [\"Fade Out['Seeb', \\\"Olivia O'Brien\\\", 'Space Primates']\", 0.706, 0.68, 4, -4.65, 0.0424, 0.118, 0.0, 0.0443, 0.728, 105.977], [\"Tie Me Down (with Elley Duh\\u00e9) - Steve Aoki Remix['Gryffin', 'Elley Duh\\u00e9', 'Steve Aoki']\", 0.715, 0.788, 6, -4.271, 0.066, 0.0874, 0.0, 0.195, 0.372, 110.041], [\"Wherever You Go['Jonas Blue', 'Jessie Reyez', 'Juan Mag\\u00e1n']\", 0.711, 0.724, 7, -4.809, 0.106, 0.0835, 0.0, 0.0389, 0.478, 104.048], [\"What I'd Give['LVNDSCAPE']\", 0.745, 0.669, 9, -5.204, 0.0316, 0.00761, 0.0, 0.118, 0.513, 107.02], [\"Harder (with Bebe Rexha)['Jax Jones', 'Bebe Rexha']\", 0.906, 0.833, 5, -3.027, 0.0729, 0.0899, 0.0, 0.154, 0.752, 104.017]], \"hovertemplate\": \"labels=4<br>x=%{x}<br>y=%{y}<br>z=%{z}<br>text=%{customdata[0]}<br>danceability=%{customdata[1]}<br>energy=%{customdata[2]}<br>key=%{customdata[3]}<br>loudness=%{customdata[4]}<br>speechiness=%{customdata[5]}<br>acousticness=%{customdata[6]}<br>instrumentalness=%{customdata[7]}<br>liveness=%{customdata[8]}<br>valence=%{customdata[9]}<br>tempo=%{customdata[10]}<extra></extra>\", \"legendgroup\": \"4\", \"marker\": {\"color\": \"#636efa\", \"symbol\": \"circle\"}, \"mode\": \"markers\", \"name\": \"4\", \"scene\": \"scene\", \"showlegend\": true, \"type\": \"scatter3d\", \"x\": [4.4963202476501465, 4.525044918060303, 4.567859172821045, 4.8115553855896, 4.308154106140137, 4.757491111755371, 4.292447090148926, 4.293880939483643, 3.8600571155548096, 4.724129676818848, 4.506664752960205, 4.40164852142334, 4.0023932456970215, 3.9843087196350098, 4.32691764831543], \"y\": [11.202828407287598, 10.460169792175293, 10.92733383178711, 11.30942153930664, 10.77197265625, 11.636350631713867, 10.507527351379395, 11.735123634338379, 11.327073097229004, 10.933332443237305, 11.365784645080566, 10.498285293579102, 11.58060073852539, 11.135269165039062, 11.421050071716309], \"z\": [3.5212106704711914, 4.057872772216797, 4.19937801361084, 3.674935817718506, 4.2351555824279785, 3.5408778190612793, 4.022866725921631, 3.668053388595581, 3.8934566974639893, 4.049013137817383, 4.015006065368652, 4.431702613830566, 3.4980733394622803, 3.8099987506866455, 3.4640417098999023]}, {\"customdata\": [[\"Make That Call['Ted Nights']\", 0.787, 0.67, 6, -5.484, 0.0369, 0.208, 1.83e-05, 0.0465, 0.58, 118.064], [\"Somebody I'm Not - Cahill Edit['Martin Jensen', 'Bj\\u00f8rnskov', 'Cahill']\", 0.678, 0.849, 9, -6.5, 0.041, 0.00105, 0.000152, 0.0661, 0.685, 122.015], [\"Ain't Thinkin Bout You (feat. Louisa)['KREAM', 'Eden Prince', 'Louisa']\", 0.784, 0.761, 9, -4.533, 0.0351, 0.00653, 0.000463, 0.0984, 0.525, 123.971], [\"Don\\u2019t Give Up On Me Now (with Julie Bergan)['R3HAB', 'Julie Bergan']\", 0.687, 0.706, 4, -5.357, 0.0459, 0.091, 0.0, 0.124, 0.27, 115.268], [\"Leave['Borgeous', 'Jordyn Jones']\", 0.762, 0.665, 11, -6.92, 0.0471, 0.169, 0.0, 0.103, 0.961, 115.946], [\"Body Back (feat. Maia Wright)['Gryffin', 'Maia Wright']\", 0.687, 0.832, 8, -4.434, 0.0366, 0.0931, 1.32e-06, 0.183, 0.448, 123.036], [\"Beautiful['MOTi', 'JETFIRE', 'Lovespeake']\", 0.722, 0.777, 7, -5.438, 0.0386, 0.0318, 0.0, 0.0756, 0.397, 117.015], [\"Changes['Mike Perry', 'Dimitri Vangelis & Wyman', 'Ten Times', 'The Companions']\", 0.716, 0.748, 10, -4.656, 0.0364, 0.0667, 0.0, 0.0581, 0.47, 120.031], [\"So Close['NOTD', 'Felix Jaehn', 'Captain Cuts', 'Georgia Ku']\", 0.7, 0.872, 10, -5.896, 0.0666, 0.121, 7.08e-06, 0.103, 0.761, 125.03], [\"One Day (feat. ROZES)['Sam Feldt', 'Yves V', 'ROZES']\", 0.668, 0.858, 8, -4.048, 0.0431, 0.181, 0.0, 0.34, 0.332, 122.082], [\"Carry On (from the Original Motion Picture \\\"POK\\u00c9MON Detective Pikachu\\\")['Kygo', 'Rita Ora']\", 0.591, 0.705, 9, -6.519, 0.079, 0.381, 0.000116, 0.131, 0.27, 121.799], [\"Polaroid['Jonas Blue', 'Liam Payne', 'Lennon Stella']\", 0.652, 0.898, 7, -4.481, 0.0361, 0.29, 0.0, 0.073, 0.472, 114.043], [\"Think About You - Galantis Remix['Kygo', 'Valerie Broussard', 'Galantis']\", 0.621, 0.898, 10, -4.569, 0.0401, 0.0976, 1.08e-05, 0.404, 0.332, 124.018]], \"hovertemplate\": \"labels=2<br>x=%{x}<br>y=%{y}<br>z=%{z}<br>text=%{customdata[0]}<br>danceability=%{customdata[1]}<br>energy=%{customdata[2]}<br>key=%{customdata[3]}<br>loudness=%{customdata[4]}<br>speechiness=%{customdata[5]}<br>acousticness=%{customdata[6]}<br>instrumentalness=%{customdata[7]}<br>liveness=%{customdata[8]}<br>valence=%{customdata[9]}<br>tempo=%{customdata[10]}<extra></extra>\", \"legendgroup\": \"2\", \"marker\": {\"color\": \"#EF553B\", \"symbol\": \"circle\"}, \"mode\": \"markers\", \"name\": \"2\", \"scene\": \"scene\", \"showlegend\": true, \"type\": \"scatter3d\", \"x\": [4.5884809494018555, 3.900789737701416, 3.9051201343536377, 4.509442329406738, 4.4224934577941895, 4.466396808624268, 4.701066017150879, 4.1859517097473145, 4.077498912811279, 4.294720649719238, 4.092695713043213, 4.52178955078125, 3.998199701309204], \"y\": [8.6268949508667, 8.014615058898926, 7.625111103057861, 9.063921928405762, 8.885588645935059, 7.574522018432617, 8.915984153747559, 8.313667297363281, 7.750733375549316, 7.8986945152282715, 8.213513374328613, 9.429215431213379, 7.7056989669799805], \"z\": [4.566514492034912, 4.894836902618408, 4.884263515472412, 4.312762260437012, 4.8175435066223145, 4.868862152099609, 4.687714099884033, 4.9482340812683105, 5.3704986572265625, 4.868296146392822, 5.136514663696289, 4.477242946624756, 5.043445587158203]}, {\"customdata\": [[\"Wild Ones['Theresa Rex']\", 0.747, 0.586, 5, -5.774, 0.0491, 0.451, 0.0, 0.252, 0.783, 91.995], [\"Wishing Well (feat. Olivia Sebastianelli)['Sam Feldt', 'Olivia Sebastianelli']\", 0.698, 0.653, 9, -6.365, 0.0521, 0.424, 0.0, 0.321, 0.381, 100.976], [\"Wanted['NOTD', 'Daya']\", 0.693, 0.674, 5, -4.449, 0.0723, 0.185, 0.0, 0.0639, 0.378, 95.972], [\"Somebody I'm Not['Martin Jensen', 'Bj\\u00f8rnskov']\", 0.718, 0.725, 9, -5.409, 0.0519, 0.153, 0.0, 0.32, 0.65, 100.044], [\"Start It Over (feat. CVBZ & Shy Martin)['NOTD', 'CVBZ', 'SHY Martin']\", 0.712, 0.839, 10, -5.136, 0.26, 0.173, 0.0, 0.0814, 0.565, 99.909], [\"Tell Your Friends (feat. Loote)['The Him', 'Loote']\", 0.489, 0.796, 3, -7.567, 0.234, 0.0122, 9.45e-06, 0.148, 0.63, 88.923], [\"Tie Me Down (with Elley Duh\\u00e9)['Gryffin', 'Elley Duh\\u00e9']\", 0.608, 0.845, 6, -2.292, 0.0597, 0.136, 0.0, 0.111, 0.322, 98.976]], \"hovertemplate\": \"labels=0<br>x=%{x}<br>y=%{y}<br>z=%{z}<br>text=%{customdata[0]}<br>danceability=%{customdata[1]}<br>energy=%{customdata[2]}<br>key=%{customdata[3]}<br>loudness=%{customdata[4]}<br>speechiness=%{customdata[5]}<br>acousticness=%{customdata[6]}<br>instrumentalness=%{customdata[7]}<br>liveness=%{customdata[8]}<br>valence=%{customdata[9]}<br>tempo=%{customdata[10]}<extra></extra>\", \"legendgroup\": \"0\", \"marker\": {\"color\": \"#00cc96\", \"symbol\": \"circle\"}, \"mode\": \"markers\", \"name\": \"0\", \"scene\": \"scene\", \"showlegend\": true, \"type\": \"scatter3d\", \"x\": [4.223016262054443, 4.316439151763916, 4.367011070251465, 4.584542274475098, 4.2308197021484375, 4.210843086242676, 4.462500095367432], \"y\": [12.006240844726562, 12.187524795532227, 12.11524486541748, 11.823583602905273, 12.053701400756836, 11.78144359588623, 11.98927116394043], \"z\": [2.677541732788086, 3.547907829284668, 2.8398890495300293, 2.969294548034668, 3.2933223247528076, 2.7927939891815186, 3.15071702003479]}, {\"customdata\": [[\"I'm Going Like['Hallman']\", 0.659, 0.803, 4, -6.945, 0.0368, 0.0207, 0.803, 0.16, 0.336, 125.986], [\"Starfields['Hallman']\", 0.609, 0.845, 2, -5.766, 0.034, 0.19, 0.0158, 0.2, 0.337, 119.926], [\"Here Comes The Sun - Remastered 2009['The Beatles']\", 0.557, 0.54, 9, -10.484, 0.0347, 0.0339, 0.00248, 0.179, 0.394, 129.171], [\"Slow Dance (feat. Ava Max) - Sam Feldt Remix['AJ Mitchell', 'Ava Max', 'Sam Feldt']\", 0.732, 0.85, 1, -5.999, 0.0444, 0.114, 2.02e-06, 0.0388, 0.372, 124.024], [\"Pachelbel's['CVBE']\", 0.581, 0.92, 0, -6.733, 0.0383, 0.0145, 0.453, 0.116, 0.528, 128.067], [\"I Miss Myself - R3HAB Remix['NOTD', 'HRVY', 'R3HAB']\", 0.502, 0.78, 0, -4.547, 0.244, 0.333, 0.0, 0.72, 0.607, 122.688], [\"We\\u2019re The Same\\u202c\\u202c['Vigiland', 'Alexander Tidebrink']\", 0.671, 0.597, 2, -7.891, 0.0333, 0.094, 0.0, 0.0881, 0.363, 125.973], [\"Over You['Hogland', 'Jazz Mino']\", 0.505, 0.572, 0, -5.561, 0.0518, 0.179, 0.0, 0.225, 0.273, 126.005], [\"Sunday Morning (feat. Josie Dunne)['Matoma', 'Josie Dunne']\", 0.629, 0.723, 6, -5.688, 0.0507, 0.111, 0.0, 0.197, 0.411, 123.997], [\"Dive['Hot Shade', 'Mike Perry', 'Chris James']\", 0.654, 0.787, 4, -4.999, 0.0502, 0.00515, 0.0, 0.144, 0.409, 123.978], [\"Cross My Heart['Hogland', 'Philip Strand']\", 0.645, 0.792, 3, -5.773, 0.108, 0.143, 0.0, 0.358, 0.678, 126.113], [\"Where Have You Gone (Anywhere)['Lucas & Steve']\", 0.618, 0.767, 5, -5.024, 0.0489, 0.00552, 0.0, 0.147, 0.239, 124.071]], \"hovertemplate\": \"labels=1<br>x=%{x}<br>y=%{y}<br>z=%{z}<br>text=%{customdata[0]}<br>danceability=%{customdata[1]}<br>energy=%{customdata[2]}<br>key=%{customdata[3]}<br>loudness=%{customdata[4]}<br>speechiness=%{customdata[5]}<br>acousticness=%{customdata[6]}<br>instrumentalness=%{customdata[7]}<br>liveness=%{customdata[8]}<br>valence=%{customdata[9]}<br>tempo=%{customdata[10]}<extra></extra>\", \"legendgroup\": \"1\", \"marker\": {\"color\": \"#ab63fa\", \"symbol\": \"circle\"}, \"mode\": \"markers\", \"name\": \"1\", \"scene\": \"scene\", \"showlegend\": true, \"type\": \"scatter3d\", \"x\": [3.586920976638794, 4.577210426330566, 3.8532731533050537, 4.066127777099609, 3.827033042907715, 4.357341289520264, 3.6483023166656494, 3.6924350261688232, 3.9998223781585693, 4.142090797424316, 3.950383424758911, 4.166940212249756], \"y\": [6.871467590332031, 6.6626691818237305, 7.443300247192383, 6.377416133880615, 6.506309986114502, 6.466169834136963, 6.594011306762695, 6.302622318267822, 7.127382755279541, 6.719953536987305, 6.714297294616699, 7.077919960021973], \"z\": [5.381268501281738, 5.153927326202393, 5.692424774169922, 5.537796497344971, 5.680594444274902, 5.507176876068115, 5.851425647735596, 5.532715320587158, 4.941036701202393, 5.111647129058838, 5.527163505554199, 5.214138031005859]}, {\"customdata\": [[\"Keep You Mine['NOTD', 'SHY Martin']\", 0.81, 0.788, 10, -3.663, 0.0447, 0.267, 0.000172, 0.196, 0.845, 135.991], [\"All You Need To Know (feat. Calle Lehmann)['Gryffin', 'SLANDER', 'Calle Lehmann']\", 0.53, 0.729, 0, -6.019, 0.0376, 0.00699, 0.0, 0.103, 0.219, 139.929], [\"Here We Go Again['Sigma', 'Louisa']\", 0.535, 0.842, 4, -3.094, 0.0846, 0.132, 0.0, 0.148, 0.598, 152.807]], \"hovertemplate\": \"labels=3<br>x=%{x}<br>y=%{y}<br>z=%{z}<br>text=%{customdata[0]}<br>danceability=%{customdata[1]}<br>energy=%{customdata[2]}<br>key=%{customdata[3]}<br>loudness=%{customdata[4]}<br>speechiness=%{customdata[5]}<br>acousticness=%{customdata[6]}<br>instrumentalness=%{customdata[7]}<br>liveness=%{customdata[8]}<br>valence=%{customdata[9]}<br>tempo=%{customdata[10]}<extra></extra>\", \"legendgroup\": \"3\", \"marker\": {\"color\": \"#FFA15A\", \"symbol\": \"circle\"}, \"mode\": \"markers\", \"name\": \"3\", \"scene\": \"scene\", \"showlegend\": true, \"type\": \"scatter3d\", \"x\": [4.007284164428711, 3.9359676837921143, 4.2220001220703125], \"y\": [7.459102153778076, 6.990121841430664, 7.21560525894165], \"z\": [5.970120906829834, 6.140374660491943, 6.111869812011719]}],\n",
       "                        {\"legend\": {\"title\": {\"text\": \"labels\"}, \"tracegroupgap\": 0}, \"margin\": {\"t\": 60}, \"scene\": {\"domain\": {\"x\": [0.0, 1.0], \"y\": [0.0, 1.0]}, \"xaxis\": {\"title\": {\"text\": \"x\"}}, \"yaxis\": {\"title\": {\"text\": \"y\"}}, \"zaxis\": {\"title\": {\"text\": \"z\"}}}, \"template\": {\"data\": {\"bar\": [{\"error_x\": {\"color\": \"#2a3f5f\"}, \"error_y\": {\"color\": \"#2a3f5f\"}, \"marker\": {\"line\": {\"color\": \"#E5ECF6\", \"width\": 0.5}}, \"type\": \"bar\"}], \"barpolar\": [{\"marker\": {\"line\": {\"color\": \"#E5ECF6\", \"width\": 0.5}}, \"type\": \"barpolar\"}], \"carpet\": [{\"aaxis\": {\"endlinecolor\": \"#2a3f5f\", \"gridcolor\": \"white\", \"linecolor\": \"white\", \"minorgridcolor\": \"white\", \"startlinecolor\": \"#2a3f5f\"}, \"baxis\": {\"endlinecolor\": \"#2a3f5f\", \"gridcolor\": \"white\", \"linecolor\": \"white\", \"minorgridcolor\": \"white\", \"startlinecolor\": \"#2a3f5f\"}, \"type\": \"carpet\"}], \"choropleth\": [{\"colorbar\": {\"outlinewidth\": 0, \"ticks\": \"\"}, \"type\": \"choropleth\"}], \"contour\": [{\"colorbar\": {\"outlinewidth\": 0, \"ticks\": \"\"}, \"colorscale\": [[0.0, \"#0d0887\"], [0.1111111111111111, \"#46039f\"], [0.2222222222222222, \"#7201a8\"], [0.3333333333333333, \"#9c179e\"], [0.4444444444444444, \"#bd3786\"], [0.5555555555555556, \"#d8576b\"], [0.6666666666666666, \"#ed7953\"], [0.7777777777777778, \"#fb9f3a\"], [0.8888888888888888, \"#fdca26\"], [1.0, \"#f0f921\"]], \"type\": \"contour\"}], \"contourcarpet\": [{\"colorbar\": {\"outlinewidth\": 0, \"ticks\": \"\"}, \"type\": \"contourcarpet\"}], \"heatmap\": [{\"colorbar\": {\"outlinewidth\": 0, \"ticks\": \"\"}, \"colorscale\": [[0.0, \"#0d0887\"], [0.1111111111111111, \"#46039f\"], [0.2222222222222222, \"#7201a8\"], [0.3333333333333333, \"#9c179e\"], [0.4444444444444444, \"#bd3786\"], [0.5555555555555556, \"#d8576b\"], [0.6666666666666666, \"#ed7953\"], [0.7777777777777778, \"#fb9f3a\"], [0.8888888888888888, \"#fdca26\"], [1.0, \"#f0f921\"]], \"type\": \"heatmap\"}], \"heatmapgl\": [{\"colorbar\": {\"outlinewidth\": 0, \"ticks\": \"\"}, \"colorscale\": [[0.0, \"#0d0887\"], [0.1111111111111111, \"#46039f\"], [0.2222222222222222, \"#7201a8\"], [0.3333333333333333, \"#9c179e\"], [0.4444444444444444, \"#bd3786\"], [0.5555555555555556, \"#d8576b\"], [0.6666666666666666, \"#ed7953\"], [0.7777777777777778, \"#fb9f3a\"], [0.8888888888888888, \"#fdca26\"], [1.0, \"#f0f921\"]], \"type\": \"heatmapgl\"}], \"histogram\": [{\"marker\": {\"colorbar\": {\"outlinewidth\": 0, \"ticks\": \"\"}}, \"type\": \"histogram\"}], \"histogram2d\": [{\"colorbar\": {\"outlinewidth\": 0, \"ticks\": \"\"}, \"colorscale\": [[0.0, \"#0d0887\"], [0.1111111111111111, \"#46039f\"], [0.2222222222222222, \"#7201a8\"], [0.3333333333333333, \"#9c179e\"], [0.4444444444444444, \"#bd3786\"], [0.5555555555555556, \"#d8576b\"], [0.6666666666666666, \"#ed7953\"], [0.7777777777777778, \"#fb9f3a\"], [0.8888888888888888, \"#fdca26\"], [1.0, \"#f0f921\"]], \"type\": \"histogram2d\"}], \"histogram2dcontour\": [{\"colorbar\": {\"outlinewidth\": 0, \"ticks\": \"\"}, \"colorscale\": [[0.0, \"#0d0887\"], [0.1111111111111111, \"#46039f\"], [0.2222222222222222, \"#7201a8\"], [0.3333333333333333, \"#9c179e\"], [0.4444444444444444, \"#bd3786\"], [0.5555555555555556, \"#d8576b\"], [0.6666666666666666, \"#ed7953\"], [0.7777777777777778, \"#fb9f3a\"], [0.8888888888888888, \"#fdca26\"], [1.0, \"#f0f921\"]], \"type\": \"histogram2dcontour\"}], \"mesh3d\": [{\"colorbar\": {\"outlinewidth\": 0, \"ticks\": \"\"}, \"type\": \"mesh3d\"}], \"parcoords\": [{\"line\": {\"colorbar\": {\"outlinewidth\": 0, \"ticks\": \"\"}}, \"type\": \"parcoords\"}], \"pie\": [{\"automargin\": true, \"type\": \"pie\"}], \"scatter\": [{\"marker\": {\"colorbar\": {\"outlinewidth\": 0, \"ticks\": \"\"}}, \"type\": \"scatter\"}], \"scatter3d\": [{\"line\": {\"colorbar\": {\"outlinewidth\": 0, \"ticks\": \"\"}}, \"marker\": {\"colorbar\": {\"outlinewidth\": 0, \"ticks\": \"\"}}, \"type\": \"scatter3d\"}], \"scattercarpet\": [{\"marker\": {\"colorbar\": {\"outlinewidth\": 0, \"ticks\": \"\"}}, \"type\": \"scattercarpet\"}], \"scattergeo\": [{\"marker\": {\"colorbar\": {\"outlinewidth\": 0, \"ticks\": \"\"}}, \"type\": \"scattergeo\"}], \"scattergl\": [{\"marker\": {\"colorbar\": {\"outlinewidth\": 0, \"ticks\": \"\"}}, \"type\": \"scattergl\"}], \"scattermapbox\": [{\"marker\": {\"colorbar\": {\"outlinewidth\": 0, \"ticks\": \"\"}}, \"type\": \"scattermapbox\"}], \"scatterpolar\": [{\"marker\": {\"colorbar\": {\"outlinewidth\": 0, \"ticks\": \"\"}}, \"type\": \"scatterpolar\"}], \"scatterpolargl\": [{\"marker\": {\"colorbar\": {\"outlinewidth\": 0, \"ticks\": \"\"}}, \"type\": \"scatterpolargl\"}], \"scatterternary\": [{\"marker\": {\"colorbar\": {\"outlinewidth\": 0, \"ticks\": \"\"}}, \"type\": \"scatterternary\"}], \"surface\": [{\"colorbar\": {\"outlinewidth\": 0, \"ticks\": \"\"}, \"colorscale\": [[0.0, \"#0d0887\"], [0.1111111111111111, \"#46039f\"], [0.2222222222222222, \"#7201a8\"], [0.3333333333333333, \"#9c179e\"], [0.4444444444444444, \"#bd3786\"], [0.5555555555555556, \"#d8576b\"], [0.6666666666666666, \"#ed7953\"], [0.7777777777777778, \"#fb9f3a\"], [0.8888888888888888, \"#fdca26\"], [1.0, \"#f0f921\"]], \"type\": \"surface\"}], \"table\": [{\"cells\": {\"fill\": {\"color\": \"#EBF0F8\"}, \"line\": {\"color\": \"white\"}}, \"header\": {\"fill\": {\"color\": \"#C8D4E3\"}, \"line\": {\"color\": \"white\"}}, \"type\": \"table\"}]}, \"layout\": {\"annotationdefaults\": {\"arrowcolor\": \"#2a3f5f\", \"arrowhead\": 0, \"arrowwidth\": 1}, \"coloraxis\": {\"colorbar\": {\"outlinewidth\": 0, \"ticks\": \"\"}}, \"colorscale\": {\"diverging\": [[0, \"#8e0152\"], [0.1, \"#c51b7d\"], [0.2, \"#de77ae\"], [0.3, \"#f1b6da\"], [0.4, \"#fde0ef\"], [0.5, \"#f7f7f7\"], [0.6, \"#e6f5d0\"], [0.7, \"#b8e186\"], [0.8, \"#7fbc41\"], [0.9, \"#4d9221\"], [1, \"#276419\"]], \"sequential\": [[0.0, \"#0d0887\"], [0.1111111111111111, \"#46039f\"], [0.2222222222222222, \"#7201a8\"], [0.3333333333333333, \"#9c179e\"], [0.4444444444444444, \"#bd3786\"], [0.5555555555555556, \"#d8576b\"], [0.6666666666666666, \"#ed7953\"], [0.7777777777777778, \"#fb9f3a\"], [0.8888888888888888, \"#fdca26\"], [1.0, \"#f0f921\"]], \"sequentialminus\": [[0.0, \"#0d0887\"], [0.1111111111111111, \"#46039f\"], [0.2222222222222222, \"#7201a8\"], [0.3333333333333333, \"#9c179e\"], [0.4444444444444444, \"#bd3786\"], [0.5555555555555556, \"#d8576b\"], [0.6666666666666666, \"#ed7953\"], [0.7777777777777778, \"#fb9f3a\"], [0.8888888888888888, \"#fdca26\"], [1.0, \"#f0f921\"]]}, \"colorway\": [\"#636efa\", \"#EF553B\", \"#00cc96\", \"#ab63fa\", \"#FFA15A\", \"#19d3f3\", \"#FF6692\", \"#B6E880\", \"#FF97FF\", \"#FECB52\"], \"font\": {\"color\": \"#2a3f5f\"}, \"geo\": {\"bgcolor\": \"white\", \"lakecolor\": \"white\", \"landcolor\": \"#E5ECF6\", \"showlakes\": true, \"showland\": true, \"subunitcolor\": \"white\"}, \"hoverlabel\": {\"align\": \"left\"}, \"hovermode\": \"closest\", \"mapbox\": {\"style\": \"light\"}, \"paper_bgcolor\": \"white\", \"plot_bgcolor\": \"#E5ECF6\", \"polar\": {\"angularaxis\": {\"gridcolor\": \"white\", \"linecolor\": \"white\", \"ticks\": \"\"}, \"bgcolor\": \"#E5ECF6\", \"radialaxis\": {\"gridcolor\": \"white\", \"linecolor\": \"white\", \"ticks\": \"\"}}, \"scene\": {\"xaxis\": {\"backgroundcolor\": \"#E5ECF6\", \"gridcolor\": \"white\", \"gridwidth\": 2, \"linecolor\": \"white\", \"showbackground\": true, \"ticks\": \"\", \"zerolinecolor\": \"white\"}, \"yaxis\": {\"backgroundcolor\": \"#E5ECF6\", \"gridcolor\": \"white\", \"gridwidth\": 2, \"linecolor\": \"white\", \"showbackground\": true, \"ticks\": \"\", \"zerolinecolor\": \"white\"}, \"zaxis\": {\"backgroundcolor\": \"#E5ECF6\", \"gridcolor\": \"white\", \"gridwidth\": 2, \"linecolor\": \"white\", \"showbackground\": true, \"ticks\": \"\", \"zerolinecolor\": \"white\"}}, \"shapedefaults\": {\"line\": {\"color\": \"#2a3f5f\"}}, \"ternary\": {\"aaxis\": {\"gridcolor\": \"white\", \"linecolor\": \"white\", \"ticks\": \"\"}, \"baxis\": {\"gridcolor\": \"white\", \"linecolor\": \"white\", \"ticks\": \"\"}, \"bgcolor\": \"#E5ECF6\", \"caxis\": {\"gridcolor\": \"white\", \"linecolor\": \"white\", \"ticks\": \"\"}}, \"title\": {\"x\": 0.05}, \"xaxis\": {\"automargin\": true, \"gridcolor\": \"white\", \"linecolor\": \"white\", \"ticks\": \"\", \"title\": {\"standoff\": 15}, \"zerolinecolor\": \"white\", \"zerolinewidth\": 2}, \"yaxis\": {\"automargin\": true, \"gridcolor\": \"white\", \"linecolor\": \"white\", \"ticks\": \"\", \"title\": {\"standoff\": 15}, \"zerolinecolor\": \"white\", \"zerolinewidth\": 2}}}},\n",
       "                        {\"responsive\": true}\n",
       "                    ).then(function(){\n",
       "                            \n",
       "var gd = document.getElementById('30d36838-e992-43a1-8229-53f57cc4368c');\n",
       "var x = new MutationObserver(function (mutations, observer) {{\n",
       "        var display = window.getComputedStyle(gd).display;\n",
       "        if (!display || display === 'none') {{\n",
       "            console.log([gd, 'removed!']);\n",
       "            Plotly.purge(gd);\n",
       "            observer.disconnect();\n",
       "        }}\n",
       "}});\n",
       "\n",
       "// Listen for the removal of the full notebook cells\n",
       "var notebookContainer = gd.closest('#notebook-container');\n",
       "if (notebookContainer) {{\n",
       "    x.observe(notebookContainer, {childList: true});\n",
       "}}\n",
       "\n",
       "// Listen for the clearing of the current output cell\n",
       "var outputEl = gd.closest('.output');\n",
       "if (outputEl) {{\n",
       "    x.observe(outputEl, {childList: true});\n",
       "}}\n",
       "\n",
       "                        })\n",
       "                };\n",
       "                });\n",
       "            </script>\n",
       "        </div>"
      ]
     },
     "metadata": {},
     "output_type": "display_data"
    }
   ],
   "source": [
    "px.scatter_3d(joined, x='x',y='y', z='z', color='labels', hover_data=['text', *columns])"
   ]
  },
  {
   "cell_type": "markdown",
   "metadata": {},
   "source": [
    "# PCA"
   ]
  },
  {
   "cell_type": "code",
   "execution_count": 148,
   "metadata": {},
   "outputs": [],
   "source": [
    "from sklearn.decomposition import PCA"
   ]
  },
  {
   "cell_type": "code",
   "execution_count": 190,
   "metadata": {},
   "outputs": [],
   "source": [
    "pca = PCA(n_components=2)\n",
    "pca_result = pca.fit(features[columns])\n",
    "transform = pd.DataFrame(pca.transform(features[columns]), columns=[\"PC0\", \"PC1\"])\n",
    "transform['labels'] = kmean_model.labels_\n",
    "transform['labels'] = transform['labels'].astype('category')"
   ]
  },
  {
   "cell_type": "code",
   "execution_count": 178,
   "metadata": {},
   "outputs": [
    {
     "name": "stdout",
     "output_type": "stream",
     "text": [
      "Dominant columns tempo and loudness\n"
     ]
    }
   ],
   "source": [
    "args = np.argmax(pca.components_, axis=1)\n",
    "print('Dominant columns {} and {}'.format(columns[args[0]], columns[args[1]]))"
   ]
  },
  {
   "cell_type": "code",
   "execution_count": 191,
   "metadata": {},
   "outputs": [
    {
     "data": {
      "image/png": "[encoded data removed]",
      "text/plain": [
       "<Figure size 1280x1280 with 1 Axes>"
      ]
     },
     "metadata": {
      "needs_background": "light"
     },
     "output_type": "display_data"
    },
    {
     "data": {
      "text/plain": [
       "<ggplot: (8790507869690)>"
      ]
     },
     "execution_count": 191,
     "metadata": {},
     "output_type": "execute_result"
    }
   ],
   "source": [
    "(\n",
    "    p9.ggplot(transform) + \n",
    "    p9.geom_point(p9.aes(x='PC0', y='PC1', color='labels'),  show_legend=False) +\n",
    "    p9.theme_minimal()\n",
    ")"
   ]
  },
  {
   "cell_type": "code",
   "execution_count": null,
   "metadata": {},
   "outputs": [],
   "source": []
  }
 ],
 "metadata": {
  "kernelspec": {
   "display_name": "Python 3",
   "language": "python",
   "name": "python3"
  },
  "language_info": {
   "codemirror_mode": {
    "name": "ipython",
    "version": 3
   },
   "file_extension": ".py",
   "mimetype": "text/x-python",
   "name": "python",
   "nbconvert_exporter": "python",
   "pygments_lexer": "ipython3",
   "version": "3.8.3"
  }
 },
 "nbformat": 4,
 "nbformat_minor": 4
}
